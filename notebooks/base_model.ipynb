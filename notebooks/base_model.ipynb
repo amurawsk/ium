{
 "cells": [
  {
   "cell_type": "markdown",
   "id": "800db5fe",
   "metadata": {},
   "source": [
    "# Najbardziej podstawowy model"
   ]
  },
  {
   "cell_type": "markdown",
   "id": "b6d28adf",
   "metadata": {},
   "source": [
    "## Wczytanie danych treningowych"
   ]
  },
  {
   "cell_type": "code",
   "execution_count": 8,
   "id": "d18b3e77",
   "metadata": {},
   "outputs": [],
   "source": [
    "import pandas as pd\n",
    "import pickle\n",
    "\n",
    "df = pd.read_csv(\"../data/final_data.csv\", delimiter=';')\n",
    "df.drop(columns=[\"id\"], inplace=True)"
   ]
  },
  {
   "cell_type": "markdown",
   "id": "ac163871",
   "metadata": {},
   "source": [
    "Najprostszym możliwym modelem dla zadania przewidywania ceny lokalu na podstawie jego cech jest model bazowy, który jako prognozowaną wartość zwraca medianę cen ze zbioru treningowego."
   ]
  },
  {
   "cell_type": "code",
   "execution_count": 10,
   "id": "876ae572",
   "metadata": {},
   "outputs": [
    {
     "name": "stdout",
     "output_type": "stream",
     "text": [
      "100.0\n"
     ]
    }
   ],
   "source": [
    "median_price = df['price'].median()\n",
    "print(median_price)"
   ]
  }
 ],
 "metadata": {
  "kernelspec": {
   "display_name": ".venv",
   "language": "python",
   "name": "python3"
  },
  "language_info": {
   "codemirror_mode": {
    "name": "ipython",
    "version": 3
   },
   "file_extension": ".py",
   "mimetype": "text/x-python",
   "name": "python",
   "nbconvert_exporter": "python",
   "pygments_lexer": "ipython3",
   "version": "3.13.1"
  }
 },
 "nbformat": 4,
 "nbformat_minor": 5
}
