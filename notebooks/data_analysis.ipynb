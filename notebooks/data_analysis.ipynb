{
  "cells": [
    {
      "cell_type": "markdown",
      "metadata": {},
      "source": [
        "Ten notatnik służył do analizy danych - jest to dokumentacja dlaczego i w jaki sposób skonstruowano finalne dane, które przetwarza model. Większą jego część zastąpił odpowiedni pipeline w modelu, który zapisuje potrzebne dane tak, aby podczas inferencji można było łatwo dopasować nowe dane do potrzebnego formatu."
      ]
    },
    {
      "cell_type": "markdown",
      "metadata": {
        "id": "V9l7iUV2yCLn"
      },
      "source": [
        "# Importy"
      ]
    },
    {
      "cell_type": "code",
      "execution_count": 36,
      "metadata": {
        "id": "rIMCLKgNx_xa"
      },
      "outputs": [],
      "source": [
        "import pandas as pd\n",
        "from sklearn.preprocessing import OneHotEncoder\n",
        "import numpy as np\n",
        "import re\n",
        "from collections import Counter\n",
        "import ast\n",
        "from sklearn.model_selection import train_test_split\n",
        "import joblib\n",
        "from math import radians, sin, cos, sqrt, atan2"
      ]
    },
    {
      "cell_type": "code",
      "execution_count": null,
      "metadata": {},
      "outputs": [],
      "source": [
        "TRAIN_DATA_PATH = \"../data/train_data.csv\"\n",
        "TEST_DATA_PATH = \"../data/test_data.csv\""
      ]
    },
    {
      "cell_type": "markdown",
      "metadata": {
        "id": "OtSmLJu7DczJ"
      },
      "source": [
        "# Podstawowe wczytanie"
      ]
    },
    {
      "cell_type": "code",
      "execution_count": null,
      "metadata": {
        "id": "QdhMKGvJ7U50"
      },
      "outputs": [],
      "source": [
        "# podstawowe wczytanie plików z dostarczonego excela\n",
        "listings = pd.read_csv('../data/raw/listings.csv', sep=';')\n",
        "calendar = pd.read_csv('../data/raw/calendar.csv', sep=';')\n",
        "\n",
        "# usunięcie $ i konwersja price na float\n",
        "calendar['price'] = calendar['price'].str.replace(r'[\\$,]', '', regex=True).astype(float)"
      ]
    },
    {
      "cell_type": "code",
      "execution_count": 39,
      "metadata": {
        "id": "5jrf8J4QDPEp"
      },
      "outputs": [],
      "source": [
        "# zostawiamy tylko wybrane kolumny\n",
        "columns_to_keep = [\n",
        "    'id',\n",
        "    'neighbourhood_cleansed',\n",
        "    'neighbourhood_group_cleansed',\n",
        "    'latitude',\n",
        "    'longitude',\n",
        "    'property_type',\n",
        "    'room_type',\n",
        "    'accommodates',\n",
        "    'bathrooms',\n",
        "    'bathrooms_text',\n",
        "    'bedrooms',\n",
        "    'beds',\n",
        "    'amenities',\n",
        "    'instant_bookable',\n",
        "    'price'\n",
        "]\n",
        "\n",
        "listings = listings[columns_to_keep]"
      ]
    },
    {
      "cell_type": "code",
      "execution_count": 40,
      "metadata": {
        "colab": {
          "base_uri": "https://localhost:8080/"
        },
        "id": "IX0tuu2TOlD_",
        "outputId": "96193894-4307-4da0-98a1-aa917961de4f"
      },
      "outputs": [
        {
          "name": "stdout",
          "output_type": "stream",
          "text": [
            "            id           neighbourhood_cleansed neighbourhood_group_cleansed  \\\n",
            "0     16989407                la Vila de Gràcia                       Gràcia   \n",
            "1     34133454                la Vila de Gràcia                       Gràcia   \n",
            "2  1,04185E+18           la Dreta de l'Eixample                     Eixample   \n",
            "3  6,95612E+17                      el Poblenou                   Sant Martí   \n",
            "4       847195  l'Antiga Esquerra de l'Eixample                     Eixample   \n",
            "\n",
            "    latitude  longitude                property_type        room_type  \\\n",
            "0  41.409920   2.157330         Private room in home     Private room   \n",
            "1  41.397630   2.159340    Entire serviced apartment  Entire home/apt   \n",
            "2  41.394798   2.165613           Entire rental unit  Entire home/apt   \n",
            "3  41.399490   2.202610  Private room in rental unit     Private room   \n",
            "4  41.385080   2.155270           Entire rental unit  Entire home/apt   \n",
            "\n",
            "   accommodates  bathrooms    bathrooms_text  bedrooms  beds  \\\n",
            "0             2        NaN  1.5 shared baths       NaN   NaN   \n",
            "1             3        1.0            1 bath       1.0   1.0   \n",
            "2             2        1.0            1 bath       1.0   1.0   \n",
            "3             2        1.0     1 shared bath       1.0   1.0   \n",
            "4             4        2.0           2 baths       2.0   3.0   \n",
            "\n",
            "                                           amenities instant_bookable    price  \n",
            "0  [\"Dryer\", \"TV\", \"Wifi\", \"Washer\", \"First aid k...                f      NaN  \n",
            "1  [\"Shampoo\", \"TV\", \"Wifi\", \"Dishes and silverwa...                t  $237.00  \n",
            "2  [\"Safe\", \"Garden view\", \"Blender\", \"Shampoo\", ...                t  $176.00  \n",
            "3  [\"Fast wifi \\u2013 328 Mbps\", \"Refrigerator\", ...                f   $81.00  \n",
            "4  [\"Patio or balcony\", \"Coffee maker\", \"Shampoo\"...                f  $135.00  \n"
          ]
        }
      ],
      "source": [
        "print(listings.head())"
      ]
    },
    {
      "cell_type": "markdown",
      "metadata": {
        "id": "VIK0LonXDgVI"
      },
      "source": [
        "# Dodanie ceny (target)"
      ]
    },
    {
      "cell_type": "code",
      "execution_count": 41,
      "metadata": {
        "colab": {
          "base_uri": "https://localhost:8080/"
        },
        "id": "tm4mFc_E7ZxX",
        "outputId": "8d5a7445-f9cf-4849-efb0-1f8043511aa9"
      },
      "outputs": [
        {
          "name": "stdout",
          "output_type": "stream",
          "text": [
            "Każdy listing z listings_excel_ready ma wpis w calendar.\n"
          ]
        }
      ],
      "source": [
        "# chcemy dla każdego listingu mieć jedną cenę (price z listings_excel_ready nie spełnia tego, bo a)to jest 'local currency', a b)są braki dla niektórych listingów\n",
        "# można usunąć tą kolumnę\n",
        "listings.drop(columns=['price'], inplace=True)\n",
        "# więc sprawdzamy czy każdy listing z listings_excel_ready ma przynajmniej jeden wpis w calendar\n",
        "listings_ids = set(listings['id'])\n",
        "calendar_listing_ids = set(calendar['listing_id'])\n",
        "\n",
        "missing_in_calendar = listings_ids - calendar_listing_ids\n",
        "\n",
        "if missing_in_calendar:\n",
        "    print(f\"Brak wpisów w calendar dla listingów o ID: {missing_in_calendar}\")\n",
        "else:\n",
        "    print(\"Każdy listing z listings_excel_ready ma wpis w calendar.\")"
      ]
    },
    {
      "cell_type": "code",
      "execution_count": 42,
      "metadata": {
        "id": "nwbR2A9h7eR_"
      },
      "outputs": [],
      "source": [
        "# skoro tak to możemy tego użyć - chcemy połączyć listingi z odpowiednią ceną, sprawdzamy ile jest unikalnych wartości\n",
        "price_stats = calendar.groupby('listing_id')['price'].agg(\n",
        "    nunique='nunique',\n",
        "    min='min',\n",
        "    max='max',\n",
        "    mean='mean',\n",
        "    median='median'\n",
        ").reset_index()\n",
        "\n",
        "# niektóre listingi mają różne ceny w zależnosci od dnia - my chcemy jedną wartość, dlatego dla tych przypadków bierzemy medianę\n",
        "price_stats['final_price'] = price_stats.apply(\n",
        "    lambda row: row['median'] if row['nunique'] > 1 else row['min'],\n",
        "    axis=1\n",
        ")"
      ]
    },
    {
      "cell_type": "code",
      "execution_count": 43,
      "metadata": {
        "id": "h7pKcdXp9MMA"
      },
      "outputs": [],
      "source": [
        "# dodajemy kolumnę\n",
        "listings = listings.merge(price_stats[['listing_id', 'final_price']], left_on='id', right_on='listing_id', how='left')\n",
        "\n",
        "listings.drop(columns=['listing_id'], inplace=True)\n",
        "listings.rename(columns={'final_price': 'price'}, inplace=True)"
      ]
    },
    {
      "cell_type": "markdown",
      "metadata": {},
      "source": [
        "# Zapisanie danych"
      ]
    },
    {
      "cell_type": "code",
      "execution_count": null,
      "metadata": {},
      "outputs": [],
      "source": [
        "# Na tym etapie można zapisać dane testowe\n",
        "train_df, test_df = train_test_split(listings, test_size=0.1, random_state=42)\n",
        "\n",
        "train_df.to_csv(TRAIN_DATA_PATH, index=False, sep=';')\n",
        "test_df.to_csv(TEST_DATA_PATH, index=False, sep=';')"
      ]
    },
    {
      "cell_type": "markdown",
      "metadata": {
        "id": "30VgU2qxDl60"
      },
      "source": [
        "# Uzupełnienie brakujących danych"
      ]
    },
    {
      "cell_type": "code",
      "execution_count": 45,
      "metadata": {
        "colab": {
          "base_uri": "https://localhost:8080/"
        },
        "id": "gVzW-4eJDoya",
        "outputId": "c94fc559-cc21-49c8-8a61-7594e455e61b"
      },
      "outputs": [
        {
          "name": "stdout",
          "output_type": "stream",
          "text": [
            "Kolumny, w których są puste wartości:  ['bathrooms', 'bathrooms_text', 'bedrooms', 'beds']\n"
          ]
        }
      ],
      "source": [
        "# w tych kolumnach dane są niepełne\n",
        "columns_with_nan = listings.columns[listings.isnull().any()].tolist()\n",
        "print('Kolumny, w których są puste wartości: ', columns_with_nan)"
      ]
    },
    {
      "cell_type": "markdown",
      "metadata": {
        "id": "b_1WXLUELxov"
      },
      "source": [
        "## Dodanie mediany do bedrooms i beds"
      ]
    },
    {
      "cell_type": "code",
      "execution_count": 46,
      "metadata": {
        "id": "XdeEsXrFDrLz"
      },
      "outputs": [],
      "source": [
        "# bedrooms i beds wypełniamy poprzez medianę z pozostałych listingów\n",
        "listings['bedrooms'] = listings['bedrooms'].fillna(listings['bedrooms'].median())\n",
        "listings['beds'] = listings['beds'].fillna(listings['beds'].median())"
      ]
    },
    {
      "cell_type": "code",
      "execution_count": 47,
      "metadata": {
        "colab": {
          "base_uri": "https://localhost:8080/"
        },
        "id": "zwES9emmDr2y",
        "outputId": "0e563838-d504-463d-dc05-6643738bc9b4"
      },
      "outputs": [
        {
          "name": "stdout",
          "output_type": "stream",
          "text": [
            "Kolumny, w których są puste wartości:  ['bathrooms', 'bathrooms_text']\n"
          ]
        }
      ],
      "source": [
        "# zostały bathrooms i bathrooms_text\n",
        "columns_with_nan = listings.columns[listings.isnull().any()].tolist()\n",
        "print('Kolumny, w których są puste wartości: ', columns_with_nan)"
      ]
    },
    {
      "cell_type": "markdown",
      "metadata": {
        "id": "od0fg3BrL6IA"
      },
      "source": [
        "## Ujednolicenie bathrooms i bathrooms_text"
      ]
    },
    {
      "cell_type": "code",
      "execution_count": 48,
      "metadata": {
        "id": "xJcvhM5hNLlF"
      },
      "outputs": [],
      "source": [
        "def normalize_half_bath(value):\n",
        "    if pd.isna(value):\n",
        "        return value\n",
        "    value = value.strip().lower()\n",
        "    if value == 'half-bath':\n",
        "        return '0.5 bath'\n",
        "    elif value == 'shared half-bath':\n",
        "        return '0.5 shared bath'\n",
        "    elif value == 'private half-bath':\n",
        "        return '0.5 private bath'\n",
        "    return value\n",
        "\n",
        "# pojedyncze wartości odbiegają od typowego 'liczba + suffix', więc naprawiamy to\n",
        "listings['bathrooms_text'] = listings['bathrooms_text'].apply(normalize_half_bath)"
      ]
    },
    {
      "cell_type": "code",
      "execution_count": 49,
      "metadata": {
        "id": "ciF7HpX_Fo1J"
      },
      "outputs": [],
      "source": [
        "def extract_bathrooms_num(text):\n",
        "    if pd.isna(text) or text == 'nan':\n",
        "        return np.nan\n",
        "    match = re.match(r'^(\\d*\\.?\\d+)', text)\n",
        "    if match:\n",
        "        return float(match.group(1))\n",
        "    return np.nan\n",
        "\n",
        "def extract_suffix(text):\n",
        "    if pd.isna(text) or text == 'nan':\n",
        "        return np.nan\n",
        "    match = re.match(r'^\\d*\\.?\\d+\\s*(.*)$', text)\n",
        "    if match:\n",
        "        return match.group(1).strip()\n",
        "    return np.nan\n",
        "\n",
        "# dodajemy bathrooms_num i bathrooms_suffix - to będą nasze dane o łazienkach\n",
        "listings['bathrooms_text_num'] = listings['bathrooms_text'].apply(extract_bathrooms_num)\n",
        "listings['bathrooms_suffix'] = listings['bathrooms_text'].apply(extract_suffix)\n",
        "listings['bathrooms_num_old'] = pd.to_numeric(listings['bathrooms'], errors='coerce')\n",
        "listings['bathrooms_num'] = listings['bathrooms_text_num'].combine_first(listings['bathrooms_num_old'])\n",
        "listings['bathrooms_suffix'] = listings['bathrooms_suffix'].fillna('missing')"
      ]
    },
    {
      "cell_type": "code",
      "execution_count": 50,
      "metadata": {
        "colab": {
          "base_uri": "https://localhost:8080/"
        },
        "id": "Mfub7lw5GcU_",
        "outputId": "31c04f95-8451-46b0-c78b-1cb4af4eecac"
      },
      "outputs": [
        {
          "name": "stdout",
          "output_type": "stream",
          "text": [
            "               id                 neighbourhood_cleansed  \\\n",
            "4019      7352954        l'Antiga Esquerra de l'Eixample   \n",
            "5125  8,54486E+17                            Sant Antoni   \n",
            "5385     32537242                      la Vila de Gràcia   \n",
            "4645  1,18828E+18  Sant Pere, Santa Caterina i la Ribera   \n",
            "3435  5,57803E+17        l'Antiga Esquerra de l'Eixample   \n",
            "\n",
            "     neighbourhood_group_cleansed   latitude  longitude  \\\n",
            "4019                     Eixample  41.392190   2.152220   \n",
            "5125                     Eixample  41.378390   2.155850   \n",
            "5385                       Gràcia  41.406100   2.151390   \n",
            "4645                 Ciutat Vella  41.385973   2.178728   \n",
            "3435                     Eixample  41.388386   2.152384   \n",
            "\n",
            "                    property_type        room_type  accommodates  bathrooms  \\\n",
            "4019           Entire rental unit  Entire home/apt             6        3.0   \n",
            "5125  Private room in rental unit     Private room             1        NaN   \n",
            "5385  Private room in rental unit     Private room             2        2.0   \n",
            "4645           Entire rental unit  Entire home/apt             4        1.0   \n",
            "3435    Entire serviced apartment  Entire home/apt             3        2.0   \n",
            "\n",
            "      bathrooms_text  bedrooms  beds  \\\n",
            "4019         3 baths       3.0   4.0   \n",
            "5125   1 shared bath       1.0   2.0   \n",
            "5385  2 shared baths       1.0   1.0   \n",
            "4645          1 bath       2.0   2.0   \n",
            "3435         2 baths       2.0   2.0   \n",
            "\n",
            "                                              amenities instant_bookable  \\\n",
            "4019  [\"Patio or balcony\", \"Coffee maker\", \"Shampoo\"...                t   \n",
            "5125  [\"Heating\", \"TV\", \"Air conditioning\", \"Kitchen...                f   \n",
            "5385  [\"Dedicated workspace\", \"Refrigerator\", \"Lock ...                f   \n",
            "4645  [\"Coffee maker\", \"Long term stays allowed\", \"S...                f   \n",
            "3435  [\"Dedicated workspace\", \"Refrigerator\", \"Host ...                f   \n",
            "\n",
            "      price  bathrooms_text_num bathrooms_suffix  bathrooms_num_old  \\\n",
            "4019  250.0                 3.0            baths                3.0   \n",
            "5125   34.0                 1.0      shared bath                NaN   \n",
            "5385   36.0                 2.0     shared baths                2.0   \n",
            "4645  550.0                 1.0             bath                1.0   \n",
            "3435  123.0                 2.0            baths                2.0   \n",
            "\n",
            "      bathrooms_num  \n",
            "4019            3.0  \n",
            "5125            1.0  \n",
            "5385            2.0  \n",
            "4645            1.0  \n",
            "3435            2.0  \n",
            "Możliwe suffixy:  ['baths' 'shared bath' 'shared baths' 'bath' 'private bath' 'missing']\n"
          ]
        }
      ],
      "source": [
        "print(listings.head())\n",
        "print('Możliwe suffixy: ', listings['bathrooms_suffix'].unique())"
      ]
    },
    {
      "cell_type": "code",
      "execution_count": 51,
      "metadata": {
        "id": "o-sYqthAHyIQ"
      },
      "outputs": [],
      "source": [
        "# usuwamy niepotrzebne stare kolumny\n",
        "listings.drop(columns=['bathrooms', 'bathrooms_text', 'bathrooms_text_num', 'bathrooms_num_old'], inplace=True)"
      ]
    },
    {
      "cell_type": "code",
      "execution_count": 52,
      "metadata": {
        "id": "jRA-mvibGZ_u"
      },
      "outputs": [],
      "source": [
        "# zamiast pola suffix - chcemy mieć typ - shared, private albo nieznany\n",
        "def classify_bathroom_type(suffix):\n",
        "    suffix = suffix.lower()\n",
        "    if 'shared' in suffix:\n",
        "        return 'shared'\n",
        "    elif 'private' in suffix:\n",
        "        return 'private'\n",
        "    else:\n",
        "        return 'unknown'\n",
        "\n",
        "listings['bathroom_type'] = listings['bathrooms_suffix'].apply(classify_bathroom_type)"
      ]
    },
    {
      "cell_type": "code",
      "execution_count": 53,
      "metadata": {
        "colab": {
          "base_uri": "https://localhost:8080/"
        },
        "id": "r6t03JUEGhKW",
        "outputId": "15548e9c-592d-4e12-be6e-6aa00b89604c"
      },
      "outputs": [
        {
          "name": "stdout",
          "output_type": "stream",
          "text": [
            "               id                 neighbourhood_cleansed  \\\n",
            "4019      7352954        l'Antiga Esquerra de l'Eixample   \n",
            "5125  8,54486E+17                            Sant Antoni   \n",
            "5385     32537242                      la Vila de Gràcia   \n",
            "4645  1,18828E+18  Sant Pere, Santa Caterina i la Ribera   \n",
            "3435  5,57803E+17        l'Antiga Esquerra de l'Eixample   \n",
            "\n",
            "     neighbourhood_group_cleansed   latitude  longitude  \\\n",
            "4019                     Eixample  41.392190   2.152220   \n",
            "5125                     Eixample  41.378390   2.155850   \n",
            "5385                       Gràcia  41.406100   2.151390   \n",
            "4645                 Ciutat Vella  41.385973   2.178728   \n",
            "3435                     Eixample  41.388386   2.152384   \n",
            "\n",
            "                    property_type        room_type  accommodates  bedrooms  \\\n",
            "4019           Entire rental unit  Entire home/apt             6       3.0   \n",
            "5125  Private room in rental unit     Private room             1       1.0   \n",
            "5385  Private room in rental unit     Private room             2       1.0   \n",
            "4645           Entire rental unit  Entire home/apt             4       2.0   \n",
            "3435    Entire serviced apartment  Entire home/apt             3       2.0   \n",
            "\n",
            "      beds                                          amenities  \\\n",
            "4019   4.0  [\"Patio or balcony\", \"Coffee maker\", \"Shampoo\"...   \n",
            "5125   2.0  [\"Heating\", \"TV\", \"Air conditioning\", \"Kitchen...   \n",
            "5385   1.0  [\"Dedicated workspace\", \"Refrigerator\", \"Lock ...   \n",
            "4645   2.0  [\"Coffee maker\", \"Long term stays allowed\", \"S...   \n",
            "3435   2.0  [\"Dedicated workspace\", \"Refrigerator\", \"Host ...   \n",
            "\n",
            "     instant_bookable  price  bathrooms_num bathroom_type  \n",
            "4019                t  250.0            3.0       unknown  \n",
            "5125                f   34.0            1.0        shared  \n",
            "5385                f   36.0            2.0        shared  \n",
            "4645                f  550.0            1.0       unknown  \n",
            "3435                f  123.0            2.0       unknown  \n",
            "Możliwe wartości type:  ['unknown' 'shared' 'private']\n"
          ]
        }
      ],
      "source": [
        "# usuwamy kolumnę suffix - mamy liczbę łazienek i ich typ\n",
        "listings.drop(columns=['bathrooms_suffix'], inplace=True)\n",
        "print(listings.head())\n",
        "print('Możliwe wartości type: ', listings['bathroom_type'].unique())"
      ]
    },
    {
      "cell_type": "code",
      "execution_count": 54,
      "metadata": {
        "colab": {
          "base_uri": "https://localhost:8080/"
        },
        "id": "l1W0D1GMIR6j",
        "outputId": "eddb6054-c6c4-4f1d-e635-f5c531531836"
      },
      "outputs": [
        {
          "name": "stdout",
          "output_type": "stream",
          "text": [
            "Liczba wierszy z brakami: 1\n",
            "Listing ID: 9,39973E+17, Brakujące kolumny: ['bathrooms_num']\n"
          ]
        }
      ],
      "source": [
        "# sprawdzamy czy jakieś wiersze mają jeszcze brakujące wartości\n",
        "rows_with_nan = listings[listings.isnull().any(axis=1)]\n",
        "\n",
        "if not rows_with_nan.empty:\n",
        "    print(f\"Liczba wierszy z brakami: {len(rows_with_nan)}\")\n",
        "    for index, row in rows_with_nan.iterrows():\n",
        "        missing_cols = row[row.isnull()].index.tolist()\n",
        "        print(f\"Listing ID: {row['id']}, Brakujące kolumny: {missing_cols}\")\n",
        "else:\n",
        "    print(\"Brak brakujących danych (NaN) w listings.\")"
      ]
    },
    {
      "cell_type": "code",
      "execution_count": 55,
      "metadata": {
        "id": "LAZF_B0rNs-0"
      },
      "outputs": [],
      "source": [
        "# ten wiersz nie miał ani pola bathrooms, ani bathrooms_text - uzupełniamy liczbę medianą tak jak w przypadku beds\n",
        "listings['bathrooms_num'] = listings['bathrooms_num'].fillna(listings['bathrooms_num'].median())"
      ]
    },
    {
      "cell_type": "code",
      "execution_count": 56,
      "metadata": {
        "colab": {
          "base_uri": "https://localhost:8080/"
        },
        "id": "VsVZemMfOAQW",
        "outputId": "ab25a049-8fb4-440c-fbb9-e7c41b05ed13"
      },
      "outputs": [
        {
          "name": "stdout",
          "output_type": "stream",
          "text": [
            "Brak brakujących danych (NaN) w listings.\n"
          ]
        }
      ],
      "source": [
        "# teraz już nie ma brakujących danych\n",
        "rows_with_nan = listings[listings.isnull().any(axis=1)]\n",
        "\n",
        "if not rows_with_nan.empty:\n",
        "    print(f\"Liczba wierszy z brakami: {len(rows_with_nan)}\")\n",
        "    for index, row in rows_with_nan.iterrows():\n",
        "        missing_cols = row[row.isnull()].index.tolist()\n",
        "        print(f\"Listing ID: {row['id']}, Brakujące kolumny: {missing_cols}\")\n",
        "else:\n",
        "    print(\"Brak brakujących danych (NaN) w listings.\")"
      ]
    },
    {
      "cell_type": "code",
      "execution_count": 21,
      "metadata": {
        "colab": {
          "base_uri": "https://localhost:8080/"
        },
        "id": "VsVZemMfOAQW",
        "outputId": "ab25a049-8fb4-440c-fbb9-e7c41b05ed13"
      },
      "outputs": [
        {
          "name": "stdout",
          "output_type": "stream",
          "text": [
            "Brak brakujących danych (NaN) w listings.\n"
          ]
        }
      ],
      "source": [
        "# teraz już nie ma brakujących danych\n",
        "rows_with_nan = listings[listings.isnull().any(axis=1)]\n",
        "\n",
        "if not rows_with_nan.empty:\n",
        "    print(f\"Liczba wierszy z brakami: {len(rows_with_nan)}\")\n",
        "    for index, row in rows_with_nan.iterrows():\n",
        "        missing_cols = row[row.isnull()].index.tolist()\n",
        "        print(f\"Listing ID: {row['id']}, Brakujące kolumny: {missing_cols}\")\n",
        "else:\n",
        "    print(\"Brak brakujących danych (NaN) w listings.\")"
      ]
    },
    {
      "cell_type": "code",
      "execution_count": 22,
      "metadata": {
        "colab": {
          "base_uri": "https://localhost:8080/"
        },
        "id": "oQpS_lLGRwIl",
        "outputId": "66555326-dac9-43aa-d174-55bdd6117d05"
      },
      "outputs": [
        {
          "name": "stdout",
          "output_type": "stream",
          "text": [
            "               id                 neighbourhood_cleansed  \\\n",
            "4019      7352954        l'Antiga Esquerra de l'Eixample   \n",
            "5125  8,54486E+17                            Sant Antoni   \n",
            "5385     32537242                      la Vila de Gràcia   \n",
            "4645  1,18828E+18  Sant Pere, Santa Caterina i la Ribera   \n",
            "3435  5,57803E+17        l'Antiga Esquerra de l'Eixample   \n",
            "...           ...                                    ...   \n",
            "3772  1,28402E+18                         el Barri Gòtic   \n",
            "5191     13086371                          el Fort Pienc   \n",
            "5226     53802792                 la Dreta de l'Eixample   \n",
            "5390     39692277                            Sant Antoni   \n",
            "860   1,15653E+18                               el Raval   \n",
            "\n",
            "     neighbourhood_group_cleansed   latitude  longitude  \\\n",
            "4019                     Eixample  41.392190   2.152220   \n",
            "5125                     Eixample  41.378390   2.155850   \n",
            "5385                       Gràcia  41.406100   2.151390   \n",
            "4645                 Ciutat Vella  41.385973   2.178728   \n",
            "3435                     Eixample  41.388386   2.152384   \n",
            "...                           ...        ...        ...   \n",
            "3772                 Ciutat Vella  41.381501   2.174089   \n",
            "5191                     Eixample  41.400160   2.179910   \n",
            "5226                     Eixample  41.398740   2.173300   \n",
            "5390                     Eixample  41.378880   2.154680   \n",
            "860                  Ciutat Vella  41.377770   2.167590   \n",
            "\n",
            "                    property_type        room_type  accommodates  bedrooms  \\\n",
            "4019           Entire rental unit  Entire home/apt             6       3.0   \n",
            "5125  Private room in rental unit     Private room             1       1.0   \n",
            "5385  Private room in rental unit     Private room             2       1.0   \n",
            "4645           Entire rental unit  Entire home/apt             4       2.0   \n",
            "3435    Entire serviced apartment  Entire home/apt             3       2.0   \n",
            "...                           ...              ...           ...       ...   \n",
            "3772           Entire rental unit  Entire home/apt             4       2.0   \n",
            "5191  Private room in rental unit     Private room             1       1.0   \n",
            "5226  Private room in rental unit     Private room             1       1.0   \n",
            "5390    Entire serviced apartment  Entire home/apt             6       2.0   \n",
            "860   Private room in rental unit     Private room             2       1.0   \n",
            "\n",
            "      beds                                          amenities  \\\n",
            "4019   4.0  [\"Patio or balcony\", \"Coffee maker\", \"Shampoo\"...   \n",
            "5125   2.0  [\"Heating\", \"TV\", \"Air conditioning\", \"Kitchen...   \n",
            "5385   1.0  [\"Dedicated workspace\", \"Refrigerator\", \"Lock ...   \n",
            "4645   2.0  [\"Coffee maker\", \"Long term stays allowed\", \"S...   \n",
            "3435   2.0  [\"Dedicated workspace\", \"Refrigerator\", \"Host ...   \n",
            "...    ...                                                ...   \n",
            "3772   2.0  [\"Wifi\", \"Washer\", \"Kitchen\", \"Air conditioning\"]   \n",
            "5191   2.0  [\"Wifi\", \"TV with standard cable\", \"Iron\", \"Ki...   \n",
            "5226   1.0  [\"Blender\", \"Dedicated workspace\", \"Shampoo\", ...   \n",
            "5390   4.0  [\"Safe\", \"Dedicated workspace\", \"Shampoo\", \"Re...   \n",
            "860    1.0  [\"Patio or balcony\", \"Extra pillows and blanke...   \n",
            "\n",
            "     instant_bookable  price  bathrooms_num bathroom_type  \n",
            "4019                t  250.0            3.0       unknown  \n",
            "5125                f   34.0            1.0        shared  \n",
            "5385                f   36.0            2.0        shared  \n",
            "4645                f  550.0            1.0       unknown  \n",
            "3435                f  123.0            2.0       unknown  \n",
            "...               ...    ...            ...           ...  \n",
            "3772                t  199.0            1.0       unknown  \n",
            "5191                f   25.0            1.0       unknown  \n",
            "5226                t   34.0            2.0        shared  \n",
            "5390                t  130.0            1.0       unknown  \n",
            "860                 t   85.0            1.0        shared  \n",
            "\n",
            "[5243 rows x 15 columns]\n"
          ]
        }
      ],
      "source": [
        "print(listings)"
      ]
    },
    {
      "cell_type": "markdown",
      "metadata": {
        "id": "j9zezynjR8Vr"
      },
      "source": [
        "## Zamiana instant_bookable"
      ]
    },
    {
      "cell_type": "code",
      "execution_count": 57,
      "metadata": {
        "colab": {
          "base_uri": "https://localhost:8080/"
        },
        "id": "oQpS_lLGRwIl",
        "outputId": "66555326-dac9-43aa-d174-55bdd6117d05"
      },
      "outputs": [
        {
          "name": "stdout",
          "output_type": "stream",
          "text": [
            "               id                 neighbourhood_cleansed  \\\n",
            "4019      7352954        l'Antiga Esquerra de l'Eixample   \n",
            "5125  8,54486E+17                            Sant Antoni   \n",
            "5385     32537242                      la Vila de Gràcia   \n",
            "4645  1,18828E+18  Sant Pere, Santa Caterina i la Ribera   \n",
            "3435  5,57803E+17        l'Antiga Esquerra de l'Eixample   \n",
            "...           ...                                    ...   \n",
            "3772  1,28402E+18                         el Barri Gòtic   \n",
            "5191     13086371                          el Fort Pienc   \n",
            "5226     53802792                 la Dreta de l'Eixample   \n",
            "5390     39692277                            Sant Antoni   \n",
            "860   1,15653E+18                               el Raval   \n",
            "\n",
            "     neighbourhood_group_cleansed   latitude  longitude  \\\n",
            "4019                     Eixample  41.392190   2.152220   \n",
            "5125                     Eixample  41.378390   2.155850   \n",
            "5385                       Gràcia  41.406100   2.151390   \n",
            "4645                 Ciutat Vella  41.385973   2.178728   \n",
            "3435                     Eixample  41.388386   2.152384   \n",
            "...                           ...        ...        ...   \n",
            "3772                 Ciutat Vella  41.381501   2.174089   \n",
            "5191                     Eixample  41.400160   2.179910   \n",
            "5226                     Eixample  41.398740   2.173300   \n",
            "5390                     Eixample  41.378880   2.154680   \n",
            "860                  Ciutat Vella  41.377770   2.167590   \n",
            "\n",
            "                    property_type        room_type  accommodates  bedrooms  \\\n",
            "4019           Entire rental unit  Entire home/apt             6       3.0   \n",
            "5125  Private room in rental unit     Private room             1       1.0   \n",
            "5385  Private room in rental unit     Private room             2       1.0   \n",
            "4645           Entire rental unit  Entire home/apt             4       2.0   \n",
            "3435    Entire serviced apartment  Entire home/apt             3       2.0   \n",
            "...                           ...              ...           ...       ...   \n",
            "3772           Entire rental unit  Entire home/apt             4       2.0   \n",
            "5191  Private room in rental unit     Private room             1       1.0   \n",
            "5226  Private room in rental unit     Private room             1       1.0   \n",
            "5390    Entire serviced apartment  Entire home/apt             6       2.0   \n",
            "860   Private room in rental unit     Private room             2       1.0   \n",
            "\n",
            "      beds                                          amenities  \\\n",
            "4019   4.0  [\"Patio or balcony\", \"Coffee maker\", \"Shampoo\"...   \n",
            "5125   2.0  [\"Heating\", \"TV\", \"Air conditioning\", \"Kitchen...   \n",
            "5385   1.0  [\"Dedicated workspace\", \"Refrigerator\", \"Lock ...   \n",
            "4645   2.0  [\"Coffee maker\", \"Long term stays allowed\", \"S...   \n",
            "3435   2.0  [\"Dedicated workspace\", \"Refrigerator\", \"Host ...   \n",
            "...    ...                                                ...   \n",
            "3772   2.0  [\"Wifi\", \"Washer\", \"Kitchen\", \"Air conditioning\"]   \n",
            "5191   2.0  [\"Wifi\", \"TV with standard cable\", \"Iron\", \"Ki...   \n",
            "5226   1.0  [\"Blender\", \"Dedicated workspace\", \"Shampoo\", ...   \n",
            "5390   4.0  [\"Safe\", \"Dedicated workspace\", \"Shampoo\", \"Re...   \n",
            "860    1.0  [\"Patio or balcony\", \"Extra pillows and blanke...   \n",
            "\n",
            "     instant_bookable  price  bathrooms_num bathroom_type  \n",
            "4019                t  250.0            3.0       unknown  \n",
            "5125                f   34.0            1.0        shared  \n",
            "5385                f   36.0            2.0        shared  \n",
            "4645                f  550.0            1.0       unknown  \n",
            "3435                f  123.0            2.0       unknown  \n",
            "...               ...    ...            ...           ...  \n",
            "3772                t  199.0            1.0       unknown  \n",
            "5191                f   25.0            1.0       unknown  \n",
            "5226                t   34.0            2.0        shared  \n",
            "5390                t  130.0            1.0       unknown  \n",
            "860                 t   85.0            1.0        shared  \n",
            "\n",
            "[5243 rows x 15 columns]\n"
          ]
        }
      ],
      "source": [
        "print(listings)"
      ]
    },
    {
      "cell_type": "markdown",
      "metadata": {
        "id": "j9zezynjR8Vr"
      },
      "source": [
        "## Zamiana instant_bookable"
      ]
    },
    {
      "cell_type": "code",
      "execution_count": 58,
      "metadata": {
        "id": "pcAtQCGoR-Eu"
      },
      "outputs": [],
      "source": [
        "# zamiast instant bookable t/f chcemy 1/0\n",
        "listings['instant_bookable'] = listings['instant_bookable'].map({'t': 1, 'f': 0})"
      ]
    },
    {
      "cell_type": "code",
      "execution_count": 59,
      "metadata": {
        "colab": {
          "base_uri": "https://localhost:8080/"
        },
        "id": "4zfiB4omSBhl",
        "outputId": "81f6c790-6183-4ec4-eae8-cf0eb71a0cd1"
      },
      "outputs": [
        {
          "name": "stdout",
          "output_type": "stream",
          "text": [
            "               id                 neighbourhood_cleansed  \\\n",
            "4019      7352954        l'Antiga Esquerra de l'Eixample   \n",
            "5125  8,54486E+17                            Sant Antoni   \n",
            "5385     32537242                      la Vila de Gràcia   \n",
            "4645  1,18828E+18  Sant Pere, Santa Caterina i la Ribera   \n",
            "3435  5,57803E+17        l'Antiga Esquerra de l'Eixample   \n",
            "...           ...                                    ...   \n",
            "3772  1,28402E+18                         el Barri Gòtic   \n",
            "5191     13086371                          el Fort Pienc   \n",
            "5226     53802792                 la Dreta de l'Eixample   \n",
            "5390     39692277                            Sant Antoni   \n",
            "860   1,15653E+18                               el Raval   \n",
            "\n",
            "     neighbourhood_group_cleansed   latitude  longitude  \\\n",
            "4019                     Eixample  41.392190   2.152220   \n",
            "5125                     Eixample  41.378390   2.155850   \n",
            "5385                       Gràcia  41.406100   2.151390   \n",
            "4645                 Ciutat Vella  41.385973   2.178728   \n",
            "3435                     Eixample  41.388386   2.152384   \n",
            "...                           ...        ...        ...   \n",
            "3772                 Ciutat Vella  41.381501   2.174089   \n",
            "5191                     Eixample  41.400160   2.179910   \n",
            "5226                     Eixample  41.398740   2.173300   \n",
            "5390                     Eixample  41.378880   2.154680   \n",
            "860                  Ciutat Vella  41.377770   2.167590   \n",
            "\n",
            "                    property_type        room_type  accommodates  bedrooms  \\\n",
            "4019           Entire rental unit  Entire home/apt             6       3.0   \n",
            "5125  Private room in rental unit     Private room             1       1.0   \n",
            "5385  Private room in rental unit     Private room             2       1.0   \n",
            "4645           Entire rental unit  Entire home/apt             4       2.0   \n",
            "3435    Entire serviced apartment  Entire home/apt             3       2.0   \n",
            "...                           ...              ...           ...       ...   \n",
            "3772           Entire rental unit  Entire home/apt             4       2.0   \n",
            "5191  Private room in rental unit     Private room             1       1.0   \n",
            "5226  Private room in rental unit     Private room             1       1.0   \n",
            "5390    Entire serviced apartment  Entire home/apt             6       2.0   \n",
            "860   Private room in rental unit     Private room             2       1.0   \n",
            "\n",
            "      beds                                          amenities  \\\n",
            "4019   4.0  [\"Patio or balcony\", \"Coffee maker\", \"Shampoo\"...   \n",
            "5125   2.0  [\"Heating\", \"TV\", \"Air conditioning\", \"Kitchen...   \n",
            "5385   1.0  [\"Dedicated workspace\", \"Refrigerator\", \"Lock ...   \n",
            "4645   2.0  [\"Coffee maker\", \"Long term stays allowed\", \"S...   \n",
            "3435   2.0  [\"Dedicated workspace\", \"Refrigerator\", \"Host ...   \n",
            "...    ...                                                ...   \n",
            "3772   2.0  [\"Wifi\", \"Washer\", \"Kitchen\", \"Air conditioning\"]   \n",
            "5191   2.0  [\"Wifi\", \"TV with standard cable\", \"Iron\", \"Ki...   \n",
            "5226   1.0  [\"Blender\", \"Dedicated workspace\", \"Shampoo\", ...   \n",
            "5390   4.0  [\"Safe\", \"Dedicated workspace\", \"Shampoo\", \"Re...   \n",
            "860    1.0  [\"Patio or balcony\", \"Extra pillows and blanke...   \n",
            "\n",
            "      instant_bookable  price  bathrooms_num bathroom_type  \n",
            "4019                 1  250.0            3.0       unknown  \n",
            "5125                 0   34.0            1.0        shared  \n",
            "5385                 0   36.0            2.0        shared  \n",
            "4645                 0  550.0            1.0       unknown  \n",
            "3435                 0  123.0            2.0       unknown  \n",
            "...                ...    ...            ...           ...  \n",
            "3772                 1  199.0            1.0       unknown  \n",
            "5191                 0   25.0            1.0       unknown  \n",
            "5226                 1   34.0            2.0        shared  \n",
            "5390                 1  130.0            1.0       unknown  \n",
            "860                  1   85.0            1.0        shared  \n",
            "\n",
            "[5243 rows x 15 columns]\n"
          ]
        }
      ],
      "source": [
        "print(listings)"
      ]
    },
    {
      "cell_type": "markdown",
      "metadata": {
        "id": "w0mEqbO0OpZ3"
      },
      "source": [
        "# One-hot encoding"
      ]
    },
    {
      "cell_type": "code",
      "execution_count": 60,
      "metadata": {
        "id": "YeJ047s_PIpP"
      },
      "outputs": [],
      "source": [
        "# listę udogodnień chcemy załatwić przez one-hot-encoding - wybieramy 50 najpopularniejszych\n",
        "all_amenities = Counter(item\n",
        "    for amenities in listings['amenities']\n",
        "    for item in ast.literal_eval(amenities)\n",
        ")"
      ]
    },
    {
      "cell_type": "code",
      "execution_count": 61,
      "metadata": {
        "colab": {
          "base_uri": "https://localhost:8080/"
        },
        "id": "ulXJd-nBS95c",
        "outputId": "b01dcdbe-8944-48d1-de02-83d3a2f467e9"
      },
      "outputs": [
        {
          "name": "stdout",
          "output_type": "stream",
          "text": [
            "[('Wifi', 4860), ('Kitchen', 4717), ('Hot water', 3893), ('Hair dryer', 3845), ('Hangers', 3776), ('Essentials', 3760), ('Iron', 3708), ('Dishes and silverware', 3543), ('Refrigerator', 3404), ('Bed linens', 3399), ('TV', 3276), ('Cooking basics', 3243), ('Heating', 3200), ('Washer', 3184), ('Microwave', 3163), ('Air conditioning', 2957), ('Elevator', 2758), ('Shampoo', 2420), ('Dedicated workspace', 2416), ('Oven', 2388), ('Coffee maker', 2289), ('Hot water kettle', 2076), ('Long term stays allowed', 2050), ('Freezer', 2020), ('Toaster', 1902), ('Dishwasher', 1886), ('Dining table', 1810), ('Stove', 1696), ('Cleaning products', 1625), ('Drying rack for clothing', 1621), ('Wine glasses', 1598), ('Host greets you', 1587), ('Room-darkening shades', 1538), ('Shower gel', 1467), ('Extra pillows and blankets', 1465), ('Body soap', 1361), ('Smoke alarm', 1357), ('Fire extinguisher', 1132), ('First aid kit', 1082), ('Luggage dropoff allowed', 1079), ('Self check-in', 1066), ('Patio or balcony', 1018), ('Crib', 998), ('Clothing storage', 983), ('Carbon monoxide alarm', 889), ('Free washer – In unit', 885), ('Pets allowed', 879), ('Private patio or balcony', 856), ('Lock on bedroom door', 852), ('Paid parking off premises', 836)]\n"
          ]
        }
      ],
      "source": [
        "print(all_amenities.most_common(50))"
      ]
    },
    {
      "cell_type": "code",
      "execution_count": 62,
      "metadata": {
        "id": "lOB4MUlIStoz"
      },
      "outputs": [],
      "source": [
        "# zamieniamy listę na wartości 1/0 w odpowiednich utworzonych przez one-hot kolumnach\n",
        "top_amenities = [item for item, count in all_amenities.most_common(50)]\n",
        "\n",
        "def has_amenity(amenities_str, amenity):\n",
        "    amenities_list = ast.literal_eval(amenities_str)\n",
        "    return int(amenity in amenities_list)\n",
        "\n",
        "for amenity in top_amenities:\n",
        "    listings[f'amenity_{amenity}'] = listings['amenities'].apply(lambda x: has_amenity(x, amenity))\n",
        "\n",
        "listings.drop(columns=['amenities'], inplace=True)"
      ]
    },
    {
      "cell_type": "code",
      "execution_count": 63,
      "metadata": {
        "colab": {
          "base_uri": "https://localhost:8080/"
        },
        "id": "HVTtA79rS5Os",
        "outputId": "d0d7d3fe-d555-4f68-c32c-f7b8b1f8ba9f"
      },
      "outputs": [
        {
          "name": "stdout",
          "output_type": "stream",
          "text": [
            "Index(['id', 'neighbourhood_cleansed', 'neighbourhood_group_cleansed',\n",
            "       'latitude', 'longitude', 'property_type', 'room_type', 'accommodates',\n",
            "       'bedrooms', 'beds', 'instant_bookable', 'price', 'bathrooms_num',\n",
            "       'bathroom_type', 'amenity_Wifi', 'amenity_Kitchen', 'amenity_Hot water',\n",
            "       'amenity_Hair dryer', 'amenity_Hangers', 'amenity_Essentials',\n",
            "       'amenity_Iron', 'amenity_Dishes and silverware', 'amenity_Refrigerator',\n",
            "       'amenity_Bed linens', 'amenity_TV', 'amenity_Cooking basics',\n",
            "       'amenity_Heating', 'amenity_Washer', 'amenity_Microwave',\n",
            "       'amenity_Air conditioning', 'amenity_Elevator', 'amenity_Shampoo',\n",
            "       'amenity_Dedicated workspace', 'amenity_Oven', 'amenity_Coffee maker',\n",
            "       'amenity_Hot water kettle', 'amenity_Long term stays allowed',\n",
            "       'amenity_Freezer', 'amenity_Toaster', 'amenity_Dishwasher',\n",
            "       'amenity_Dining table', 'amenity_Stove', 'amenity_Cleaning products',\n",
            "       'amenity_Drying rack for clothing', 'amenity_Wine glasses',\n",
            "       'amenity_Host greets you', 'amenity_Room-darkening shades',\n",
            "       'amenity_Shower gel', 'amenity_Extra pillows and blankets',\n",
            "       'amenity_Body soap', 'amenity_Smoke alarm', 'amenity_Fire extinguisher',\n",
            "       'amenity_First aid kit', 'amenity_Luggage dropoff allowed',\n",
            "       'amenity_Self check-in', 'amenity_Patio or balcony', 'amenity_Crib',\n",
            "       'amenity_Clothing storage', 'amenity_Carbon monoxide alarm',\n",
            "       'amenity_Free washer – In unit', 'amenity_Pets allowed',\n",
            "       'amenity_Private patio or balcony', 'amenity_Lock on bedroom door',\n",
            "       'amenity_Paid parking off premises'],\n",
            "      dtype='object')\n"
          ]
        }
      ],
      "source": [
        "print(listings.columns)"
      ]
    },
    {
      "cell_type": "code",
      "execution_count": 64,
      "metadata": {
        "id": "SNyRnkl8A13w"
      },
      "outputs": [],
      "source": [
        "# w tych kolumnach stosujemy one-hot\n",
        "categorical_cols = ['property_type', 'room_type', 'neighbourhood_cleansed', 'neighbourhood_group_cleansed', 'bathroom_type']\n",
        "\n",
        "encoder = OneHotEncoder(handle_unknown='ignore', sparse_output=False)\n",
        "encoded_array = encoder.fit_transform(listings[categorical_cols])\n",
        "encoded_cols = encoder.get_feature_names_out(categorical_cols)\n",
        "encoded_df = pd.DataFrame(encoded_array, columns=encoded_cols, index=listings.index)\n",
        "listings = pd.concat([listings.drop(columns=categorical_cols), encoded_df], axis=1)"
      ]
    },
    {
      "cell_type": "markdown",
      "metadata": {
        "id": "5TCl5tVUXT0i"
      },
      "source": [
        "# Zamiana kolejności"
      ]
    },
    {
      "cell_type": "code",
      "execution_count": 65,
      "metadata": {
        "id": "R1WDEePhXWRx"
      },
      "outputs": [],
      "source": [
        "cols = [col for col in listings.columns if col != 'price'] + ['price']\n",
        "listings = listings[cols]"
      ]
    },
    {
      "cell_type": "markdown",
      "metadata": {},
      "source": [
        "# Dodane nowe atrybuty"
      ]
    },
    {
      "cell_type": "code",
      "execution_count": 68,
      "metadata": {},
      "outputs": [],
      "source": [
        "# === Funkcja odległości do centrum Barcelony\n",
        "def haversine(lat1, lon1, lat2=41.3870, lon2=2.1701):\n",
        "    R = 6371\n",
        "    dlat = radians(lat2 - lat1)\n",
        "    dlon = radians(lon2 - lon1)\n",
        "    a = sin(dlat / 2)**2 + cos(radians(lat1)) * cos(radians(lat2)) * sin(dlon / 2)**2\n",
        "    return R * 2 * atan2(sqrt(a), sqrt(1 - a))"
      ]
    },
    {
      "cell_type": "code",
      "execution_count": 69,
      "metadata": {},
      "outputs": [],
      "source": [
        "df = listings\n",
        "df = df[(df[\"price\"] >= df[\"price\"].quantile(0.01)) & (df[\"price\"] <= df[\"price\"].quantile(0.99))].copy()\n",
        "\n",
        "# === Feature engineering\n",
        "df[\"bathrooms_per_guest\"] = df[\"bathrooms_num\"] / df[\"accommodates\"].replace(0, np.nan)\n",
        "df[\"bedrooms_per_guest\"] = df[\"bedrooms\"] / df[\"accommodates\"].replace(0, np.nan)\n",
        "df[\"beds_per_guest\"] = df[\"beds\"] / df[\"accommodates\"].replace(0, np.nan)\n",
        "df[\"beds_per_bedroom\"] = df[\"beds\"] / df[\"bedrooms\"].replace(0, np.nan)\n",
        "df[\"guests_per_bedroom\"] = df[\"accommodates\"] / df[\"bedrooms\"].replace(0, np.nan)\n",
        "df[\"dist_to_center\"] = df.apply(lambda row: haversine(row[\"latitude\"], row[\"longitude\"]), axis=1)\n",
        "\n",
        "# === Klasteryzacja lokalizacji\n",
        "from sklearn.cluster import KMeans\n",
        "kmeans = KMeans(n_clusters=15, random_state=42, n_init='auto')\n",
        "df[\"location_cluster\"] = kmeans.fit_predict(df[[\"latitude\", \"longitude\"]])\n",
        "joblib.dump(kmeans, \"final_models/kmeans_location_cluster.pkl\")\n",
        "\n",
        "# === Dodatkowe cechy\n",
        "amenity_cols = [col for col in df.columns if col.startswith(\"amenity_\")]\n",
        "df[\"num_amenities\"] = df[amenity_cols].sum(axis=1)\n",
        "df[\"has_tv_or_wifi\"] = df[[\"amenity_TV\", \"amenity_Wifi\"]].max(axis=1)\n",
        "df[\"is_suited_for_longterm\"] = df[[\"amenity_Washer\", \"amenity_Kitchen\", \"amenity_Dishes and silverware\"]].sum(axis=1) >= 2\n",
        "df[\"lat_scaled\"] = (df[\"latitude\"] - df[\"latitude\"].mean()) / df[\"latitude\"].std()\n",
        "df[\"lon_scaled\"] = (df[\"longitude\"] - df[\"longitude\"].mean()) / df[\"longitude\"].std()\n",
        "df[\"is_group_friendly\"] = (df[\"accommodates\"] >= 4).astype(int)"
      ]
    },
    {
      "cell_type": "code",
      "execution_count": 70,
      "metadata": {},
      "outputs": [
        {
          "name": "stdout",
          "output_type": "stream",
          "text": [
            "Kolumny, w których są puste wartości:  ['beds_per_bedroom', 'guests_per_bedroom']\n"
          ]
        }
      ],
      "source": [
        "# w tych kolumnach dane są niepełne\n",
        "columns_with_nan = df.columns[df.isnull().any()].tolist()\n",
        "print('Kolumny, w których są puste wartości: ', columns_with_nan)"
      ]
    },
    {
      "cell_type": "code",
      "execution_count": 71,
      "metadata": {},
      "outputs": [],
      "source": [
        "df.fillna(0, inplace=True)"
      ]
    },
    {
      "cell_type": "code",
      "execution_count": 72,
      "metadata": {},
      "outputs": [
        {
          "name": "stdout",
          "output_type": "stream",
          "text": [
            "Brak brakujących danych (NaN) w df.\n"
          ]
        }
      ],
      "source": [
        "# sprawdzamy czy jakieś wiersze mają jeszcze brakujące wartości\n",
        "rows_with_nan = df[df.isnull().any(axis=1)]\n",
        "\n",
        "if not rows_with_nan.empty:\n",
        "    print(f\"Liczba wierszy z brakami: {len(rows_with_nan)}\")\n",
        "    for index, row in rows_with_nan.iterrows():\n",
        "        missing_cols = row[row.isnull()].index.tolist()\n",
        "        print(f\"Listing ID: {row['id']}, Brakujące kolumny: {missing_cols}\")\n",
        "else:\n",
        "    print(\"Brak brakujących danych (NaN) w df.\")"
      ]
    },
    {
      "cell_type": "code",
      "execution_count": 73,
      "metadata": {},
      "outputs": [],
      "source": [
        "for col in [\"bathrooms_per_guest\", \"bedrooms_per_guest\", \"beds_per_guest\", \"beds_per_bedroom\", \"guests_per_bedroom\"]:\n",
        "    df[col] = df[col].replace([np.inf, -np.inf], np.nan)\n",
        "    q_low, q_high = df[col].quantile([0.01, 0.99])\n",
        "    df[col] = df[col].clip(q_low, q_high).fillna(df[col].median())"
      ]
    }
  ],
  "metadata": {
    "colab": {
      "provenance": [],
      "toc_visible": true
    },
    "kernelspec": {
      "display_name": ".venv",
      "language": "python",
      "name": "python3"
    },
    "language_info": {
      "codemirror_mode": {
        "name": "ipython",
        "version": 3
      },
      "file_extension": ".py",
      "mimetype": "text/x-python",
      "name": "python",
      "nbconvert_exporter": "python",
      "pygments_lexer": "ipython3",
      "version": "3.13.1"
    }
  },
  "nbformat": 4,
  "nbformat_minor": 0
}
