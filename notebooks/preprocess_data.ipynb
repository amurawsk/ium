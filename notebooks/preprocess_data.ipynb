{
 "cells": [
  {
   "cell_type": "markdown",
   "id": "41556187",
   "metadata": {},
   "source": [
    "# Importy"
   ]
  },
  {
   "cell_type": "code",
   "execution_count": 11,
   "id": "be15f1e6",
   "metadata": {},
   "outputs": [],
   "source": [
    "import pandas as pd\n",
    "from sklearn.model_selection import train_test_split"
   ]
  },
  {
   "cell_type": "markdown",
   "id": "db225e3b",
   "metadata": {},
   "source": [
    "# Dane"
   ]
  },
  {
   "cell_type": "markdown",
   "id": "ffce1f06",
   "metadata": {},
   "source": [
    "W tym notatniku zamieszczono jedynie preprocessing danych, czyli wczytanie danych dostarczonych z excela, usunięcie zbędnych kolumn, dodanie ceny (targetu). Jest to początek notatnika data_analysis, który w większej części został zastąpiony przez pipeline w modelu."
   ]
  },
  {
   "cell_type": "markdown",
   "id": "0eff1422",
   "metadata": {},
   "source": [
    "Dane wyeksportowane poprzez ten notatnik są punktem wejścia do pipeline'u modelu. Przyszłe dane w inferencji należy dostarczać właśnie w takiej formie do modelu (oczywiście bez price). Mikroserwis powinien odpowiadać za przekształcenie danych z surowej postaci do takiej, jak wynikowa z tego notatnika, aby można je było następnie przekazać do modelu."
   ]
  },
  {
   "cell_type": "code",
   "execution_count": 12,
   "id": "1f32cb2c",
   "metadata": {},
   "outputs": [],
   "source": [
    "TRAIN_DATA_PATH = \"../data/train_data.csv\"\n",
    "TEST_DATA_PATH = \"../data/test_data.csv\""
   ]
  },
  {
   "cell_type": "code",
   "execution_count": 13,
   "id": "15e4a91d",
   "metadata": {},
   "outputs": [],
   "source": [
    "# podstawowe wczytanie plików z dostarczonego excela\n",
    "listings = pd.read_csv('../data/raw/listings.csv', sep=';')\n",
    "calendar = pd.read_csv('../data/raw/calendar.csv', sep=';')\n",
    "\n",
    "# usunięcie $ i konwersja price na float\n",
    "calendar['price'] = calendar['price'].str.replace(r'[\\$,]', '', regex=True).astype(float)"
   ]
  },
  {
   "cell_type": "code",
   "execution_count": 14,
   "id": "8c07c9b7",
   "metadata": {},
   "outputs": [],
   "source": [
    "# zostawiamy tylko wybrane kolumny\n",
    "columns_to_keep = [\n",
    "    'id',\n",
    "    'neighbourhood_cleansed',\n",
    "    'neighbourhood_group_cleansed',\n",
    "    'latitude',\n",
    "    'longitude',\n",
    "    'property_type',\n",
    "    'room_type',\n",
    "    'accommodates',\n",
    "    'bathrooms',\n",
    "    'bathrooms_text',\n",
    "    'bedrooms',\n",
    "    'beds',\n",
    "    'amenities',\n",
    "    'instant_bookable',\n",
    "    'price'\n",
    "]\n",
    "\n",
    "listings = listings[columns_to_keep]"
   ]
  },
  {
   "cell_type": "code",
   "execution_count": 15,
   "id": "a5386a92",
   "metadata": {},
   "outputs": [
    {
     "name": "stdout",
     "output_type": "stream",
     "text": [
      "            id           neighbourhood_cleansed neighbourhood_group_cleansed  \\\n",
      "0     16989407                la Vila de Gràcia                       Gràcia   \n",
      "1     34133454                la Vila de Gràcia                       Gràcia   \n",
      "2  1,04185E+18           la Dreta de l'Eixample                     Eixample   \n",
      "3  6,95612E+17                      el Poblenou                   Sant Martí   \n",
      "4       847195  l'Antiga Esquerra de l'Eixample                     Eixample   \n",
      "\n",
      "    latitude  longitude                property_type        room_type  \\\n",
      "0  41.409920   2.157330         Private room in home     Private room   \n",
      "1  41.397630   2.159340    Entire serviced apartment  Entire home/apt   \n",
      "2  41.394798   2.165613           Entire rental unit  Entire home/apt   \n",
      "3  41.399490   2.202610  Private room in rental unit     Private room   \n",
      "4  41.385080   2.155270           Entire rental unit  Entire home/apt   \n",
      "\n",
      "   accommodates  bathrooms    bathrooms_text  bedrooms  beds  \\\n",
      "0             2        NaN  1.5 shared baths       NaN   NaN   \n",
      "1             3        1.0            1 bath       1.0   1.0   \n",
      "2             2        1.0            1 bath       1.0   1.0   \n",
      "3             2        1.0     1 shared bath       1.0   1.0   \n",
      "4             4        2.0           2 baths       2.0   3.0   \n",
      "\n",
      "                                           amenities instant_bookable    price  \n",
      "0  [\"Dryer\", \"TV\", \"Wifi\", \"Washer\", \"First aid k...                f      NaN  \n",
      "1  [\"Shampoo\", \"TV\", \"Wifi\", \"Dishes and silverwa...                t  $237.00  \n",
      "2  [\"Safe\", \"Garden view\", \"Blender\", \"Shampoo\", ...                t  $176.00  \n",
      "3  [\"Fast wifi \\u2013 328 Mbps\", \"Refrigerator\", ...                f   $81.00  \n",
      "4  [\"Patio or balcony\", \"Coffee maker\", \"Shampoo\"...                f  $135.00  \n"
     ]
    }
   ],
   "source": [
    "print(listings.head())"
   ]
  },
  {
   "cell_type": "code",
   "execution_count": 16,
   "id": "e3ccb24c",
   "metadata": {},
   "outputs": [
    {
     "name": "stdout",
     "output_type": "stream",
     "text": [
      "Każdy listing z listings_excel_ready ma wpis w calendar.\n"
     ]
    }
   ],
   "source": [
    "# chcemy dla każdego listingu mieć jedną cenę (price z listings_excel_ready nie spełnia tego, bo a)to jest 'local currency', a b)są braki dla niektórych listingów\n",
    "# można usunąć tą kolumnę\n",
    "listings.drop(columns=['price'], inplace=True)\n",
    "# więc sprawdzamy czy każdy listing z listings_excel_ready ma przynajmniej jeden wpis w calendar\n",
    "listings_ids = set(listings['id'])\n",
    "calendar_listing_ids = set(calendar['listing_id'])\n",
    "\n",
    "missing_in_calendar = listings_ids - calendar_listing_ids\n",
    "\n",
    "if missing_in_calendar:\n",
    "    print(f\"Brak wpisów w calendar dla listingów o ID: {missing_in_calendar}\")\n",
    "else:\n",
    "    print(\"Każdy listing z listings_excel_ready ma wpis w calendar.\")"
   ]
  },
  {
   "cell_type": "code",
   "execution_count": 17,
   "id": "4844a223",
   "metadata": {},
   "outputs": [],
   "source": [
    "# skoro tak to możemy tego użyć - chcemy połączyć listingi z odpowiednią ceną, sprawdzamy ile jest unikalnych wartości\n",
    "price_stats = calendar.groupby('listing_id')['price'].agg(\n",
    "    nunique='nunique',\n",
    "    min='min',\n",
    "    max='max',\n",
    "    mean='mean',\n",
    "    median='median'\n",
    ").reset_index()\n",
    "\n",
    "# niektóre listingi mają różne ceny w zależnosci od dnia - my chcemy jedną wartość, dlatego dla tych przypadków bierzemy medianę\n",
    "price_stats['final_price'] = price_stats.apply(\n",
    "    lambda row: row['median'] if row['nunique'] > 1 else row['min'],\n",
    "    axis=1\n",
    ")"
   ]
  },
  {
   "cell_type": "code",
   "execution_count": 18,
   "id": "290258db",
   "metadata": {},
   "outputs": [],
   "source": [
    "# dodajemy kolumnę\n",
    "listings = listings.merge(price_stats[['listing_id', 'final_price']], left_on='id', right_on='listing_id', how='left')\n",
    "\n",
    "listings.drop(columns=['listing_id'], inplace=True)\n",
    "listings.rename(columns={'final_price': 'price'}, inplace=True)"
   ]
  },
  {
   "cell_type": "code",
   "execution_count": 19,
   "id": "3f336332",
   "metadata": {},
   "outputs": [],
   "source": [
    "# Na tym etapie można zapisać dane\n",
    "train_df, test_df = train_test_split(listings, test_size=0.1, random_state=42)\n",
    "\n",
    "train_df.to_csv(TRAIN_DATA_PATH, index=False, sep=';')\n",
    "test_df.to_csv(TEST_DATA_PATH, index=False, sep=';')"
   ]
  },
  {
   "cell_type": "code",
   "execution_count": 20,
   "id": "af1afb21",
   "metadata": {},
   "outputs": [
    {
     "name": "stdout",
     "output_type": "stream",
     "text": [
      "100.0\n"
     ]
    }
   ],
   "source": [
    "print(train_df['price'].median())"
   ]
  }
 ],
 "metadata": {
  "kernelspec": {
   "display_name": ".venv",
   "language": "python",
   "name": "python3"
  },
  "language_info": {
   "codemirror_mode": {
    "name": "ipython",
    "version": 3
   },
   "file_extension": ".py",
   "mimetype": "text/x-python",
   "name": "python",
   "nbconvert_exporter": "python",
   "pygments_lexer": "ipython3",
   "version": "3.13.1"
  }
 },
 "nbformat": 4,
 "nbformat_minor": 5
}
