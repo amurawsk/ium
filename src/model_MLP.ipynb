{
 "cells": [
  {
   "cell_type": "code",
   "execution_count": 11,
   "id": "48a681f3",
   "metadata": {},
   "outputs": [],
   "source": [
    "# Importy\n",
    "import torch\n",
    "import numpy as np\n",
    "import pandas as pd\n",
    "import torch.utils.data as data\n",
    "import torch.nn as nn\n",
    "from matplotlib import pyplot as plt\n",
    "from sklearn.metrics import mean_squared_error, mean_absolute_error, r2_score\n",
    "from sklearn.preprocessing import StandardScaler\n",
    "\n",
    "device = torch.device(\"cuda\" if torch.cuda.is_available() else \"cpu\")"
   ]
  },
  {
   "cell_type": "code",
   "execution_count": 12,
   "id": "27acb61f",
   "metadata": {},
   "outputs": [],
   "source": [
    "# Wczytanie danych\n",
    "df = pd.read_csv(\"../data/final_data.csv\", delimiter=';')\n",
    "df = df[df['price'].notna()]\n",
    "df = df[df['price'] > 0]\n",
    "df = df[df['price'] < 10000]\n",
    "df.drop(columns=['id'], inplace=True)"
   ]
  },
  {
   "cell_type": "code",
   "execution_count": 13,
   "id": "fb6844d7",
   "metadata": {},
   "outputs": [],
   "source": [
    "# Podział i log-transformacja ceny\n",
    "train_df = df.sample(frac=0.8, random_state=205)\n",
    "test_df = df.drop(train_df.index)\n",
    "\n",
    "train_df['price'] = np.log1p(train_df['price'])\n",
    "test_df['price'] = np.log1p(test_df['price'])\n",
    "\n",
    "X_train = train_df.iloc[:, :-1].values\n",
    "y_train = train_df.iloc[:, -1].values\n",
    "\n",
    "X_test = test_df.iloc[:, :-1].values\n",
    "y_test = test_df.iloc[:, -1].values"
   ]
  },
  {
   "cell_type": "code",
   "execution_count": 14,
   "id": "cc541501",
   "metadata": {},
   "outputs": [],
   "source": [
    "# Normalizacja cech\n",
    "scaler = StandardScaler()\n",
    "X_train = scaler.fit_transform(X_train)\n",
    "X_test = scaler.transform(X_test)"
   ]
  },
  {
   "cell_type": "code",
   "execution_count": 15,
   "id": "a3333f47",
   "metadata": {},
   "outputs": [],
   "source": [
    "# Tensory i DataLoadery\n",
    "X_train_tensor = torch.tensor(X_train, dtype=torch.float32)\n",
    "y_train_tensor = torch.tensor(y_train, dtype=torch.float32)\n",
    "\n",
    "X_test_tensor = torch.tensor(X_test, dtype=torch.float32)\n",
    "y_test_tensor = torch.tensor(y_test, dtype=torch.float32)\n",
    "\n",
    "train_dataset = data.TensorDataset(X_train_tensor, y_train_tensor)\n",
    "test_dataset = data.TensorDataset(X_test_tensor, y_test_tensor)\n",
    "\n",
    "train_loader = data.DataLoader(train_dataset, batch_size=64, shuffle=True, pin_memory=True)\n",
    "test_loader = data.DataLoader(test_dataset, batch_size=64, shuffle=False, pin_memory=True)"
   ]
  },
  {
   "cell_type": "code",
   "execution_count": 16,
   "id": "9f09fcc4",
   "metadata": {},
   "outputs": [],
   "source": [
    "# Definicja modelu\n",
    "class PriceRegressor(nn.Module):\n",
    "    def __init__(self, input_dim):\n",
    "        super().__init__()\n",
    "        self.model = nn.Sequential(\n",
    "            nn.Linear(input_dim, 128),\n",
    "            nn.ReLU(),\n",
    "            nn.Linear(128, 64),\n",
    "            nn.ReLU(),\n",
    "            nn.Linear(64, 1)\n",
    "        )\n",
    "\n",
    "    def forward(self, x):\n",
    "        return self.model(x).squeeze()"
   ]
  },
  {
   "cell_type": "code",
   "execution_count": 17,
   "id": "b32379be",
   "metadata": {},
   "outputs": [],
   "source": [
    "# Inicjalizacja\n",
    "model = PriceRegressor(X_train_tensor.shape[1]).to(device)\n",
    "criterion = nn.MSELoss()\n",
    "optimizer = torch.optim.Adam(model.parameters(), lr=1e-4)"
   ]
  },
  {
   "cell_type": "code",
   "execution_count": 18,
   "id": "ecbb32a8",
   "metadata": {},
   "outputs": [
    {
     "name": "stdout",
     "output_type": "stream",
     "text": [
      "Epoch 1/100, Loss: 20.5234\n",
      "Epoch 2/100, Loss: 15.2976\n",
      "Epoch 3/100, Loss: 8.4479\n",
      "Epoch 4/100, Loss: 3.1559\n",
      "Epoch 5/100, Loss: 1.5526\n",
      "Epoch 6/100, Loss: 1.1847\n",
      "Epoch 7/100, Loss: 0.9861\n",
      "Epoch 8/100, Loss: 0.8603\n",
      "Epoch 9/100, Loss: 0.7731\n",
      "Epoch 10/100, Loss: 0.7113\n",
      "Epoch 11/100, Loss: 0.6655\n",
      "Epoch 12/100, Loss: 0.6297\n",
      "Epoch 13/100, Loss: 0.5998\n",
      "Epoch 14/100, Loss: 0.5768\n",
      "Epoch 15/100, Loss: 0.5540\n",
      "Epoch 16/100, Loss: 0.5382\n",
      "Epoch 17/100, Loss: 0.5195\n",
      "Epoch 18/100, Loss: 0.5060\n",
      "Epoch 19/100, Loss: 0.4925\n",
      "Epoch 20/100, Loss: 0.4806\n",
      "Epoch 21/100, Loss: 0.4704\n",
      "Epoch 22/100, Loss: 0.4603\n",
      "Epoch 23/100, Loss: 0.4516\n",
      "Epoch 24/100, Loss: 0.4422\n",
      "Epoch 25/100, Loss: 0.4347\n",
      "Epoch 26/100, Loss: 0.4266\n",
      "Epoch 27/100, Loss: 0.4205\n",
      "Epoch 28/100, Loss: 0.4147\n",
      "Epoch 29/100, Loss: 0.4084\n",
      "Epoch 30/100, Loss: 0.4031\n",
      "Epoch 31/100, Loss: 0.3986\n",
      "Epoch 32/100, Loss: 0.3916\n",
      "Epoch 33/100, Loss: 0.3865\n",
      "Epoch 34/100, Loss: 0.3824\n",
      "Epoch 35/100, Loss: 0.3770\n",
      "Epoch 36/100, Loss: 0.3725\n",
      "Epoch 37/100, Loss: 0.3671\n",
      "Epoch 38/100, Loss: 0.3626\n",
      "Epoch 39/100, Loss: 0.3594\n",
      "Epoch 40/100, Loss: 0.3553\n",
      "Epoch 41/100, Loss: 0.3515\n",
      "Epoch 42/100, Loss: 0.3466\n",
      "Epoch 43/100, Loss: 0.3435\n",
      "Epoch 44/100, Loss: 0.3393\n",
      "Epoch 45/100, Loss: 0.3359\n",
      "Epoch 46/100, Loss: 0.3320\n",
      "Epoch 47/100, Loss: 0.3287\n",
      "Epoch 48/100, Loss: 0.3255\n",
      "Epoch 49/100, Loss: 0.3222\n",
      "Epoch 50/100, Loss: 0.3181\n",
      "Epoch 51/100, Loss: 0.3153\n",
      "Epoch 52/100, Loss: 0.3116\n",
      "Epoch 53/100, Loss: 0.3084\n",
      "Epoch 54/100, Loss: 0.3060\n",
      "Epoch 55/100, Loss: 0.3008\n",
      "Epoch 56/100, Loss: 0.2985\n",
      "Epoch 57/100, Loss: 0.2959\n",
      "Epoch 58/100, Loss: 0.2916\n",
      "Epoch 59/100, Loss: 0.2900\n",
      "Epoch 60/100, Loss: 0.2868\n",
      "Epoch 61/100, Loss: 0.2832\n",
      "Epoch 62/100, Loss: 0.2814\n",
      "Epoch 63/100, Loss: 0.2776\n",
      "Epoch 64/100, Loss: 0.2743\n",
      "Epoch 65/100, Loss: 0.2707\n",
      "Epoch 66/100, Loss: 0.2689\n",
      "Epoch 67/100, Loss: 0.2650\n",
      "Epoch 68/100, Loss: 0.2629\n",
      "Epoch 69/100, Loss: 0.2606\n",
      "Epoch 70/100, Loss: 0.2592\n",
      "Epoch 71/100, Loss: 0.2553\n",
      "Epoch 72/100, Loss: 0.2516\n",
      "Epoch 73/100, Loss: 0.2496\n",
      "Epoch 74/100, Loss: 0.2472\n",
      "Epoch 75/100, Loss: 0.2447\n",
      "Epoch 76/100, Loss: 0.2415\n",
      "Epoch 77/100, Loss: 0.2389\n",
      "Epoch 78/100, Loss: 0.2368\n",
      "Epoch 79/100, Loss: 0.2333\n",
      "Epoch 80/100, Loss: 0.2321\n",
      "Epoch 81/100, Loss: 0.2278\n",
      "Epoch 82/100, Loss: 0.2251\n",
      "Epoch 83/100, Loss: 0.2240\n",
      "Epoch 84/100, Loss: 0.2208\n",
      "Epoch 85/100, Loss: 0.2184\n",
      "Epoch 86/100, Loss: 0.2159\n",
      "Epoch 87/100, Loss: 0.2141\n",
      "Epoch 88/100, Loss: 0.2100\n",
      "Epoch 89/100, Loss: 0.2080\n",
      "Epoch 90/100, Loss: 0.2069\n",
      "Epoch 91/100, Loss: 0.2030\n",
      "Epoch 92/100, Loss: 0.2023\n",
      "Epoch 93/100, Loss: 0.1986\n",
      "Epoch 94/100, Loss: 0.1978\n",
      "Epoch 95/100, Loss: 0.1945\n",
      "Epoch 96/100, Loss: 0.1917\n",
      "Epoch 97/100, Loss: 0.1895\n",
      "Epoch 98/100, Loss: 0.1868\n",
      "Epoch 99/100, Loss: 0.1859\n",
      "Epoch 100/100, Loss: 0.1833\n"
     ]
    }
   ],
   "source": [
    "# Trenowanie\n",
    "num_epochs = 100\n",
    "\n",
    "for epoch in range(num_epochs):\n",
    "    model.train()\n",
    "    total_loss = 0\n",
    "    for xb, yb in train_loader:\n",
    "        xb, yb = xb.to(device), yb.to(device)\n",
    "        optimizer.zero_grad()\n",
    "        preds = model(xb)\n",
    "        loss = criterion(preds, yb)\n",
    "        loss.backward()\n",
    "        optimizer.step()\n",
    "        total_loss += loss.item()\n",
    "    avg_loss = total_loss / len(train_loader)\n",
    "    print(f\"Epoch {epoch+1}/{num_epochs}, Loss: {avg_loss:.4f}\")"
   ]
  },
  {
   "cell_type": "code",
   "execution_count": 19,
   "id": "c490fb39",
   "metadata": {},
   "outputs": [
    {
     "name": "stdout",
     "output_type": "stream",
     "text": [
      "MAE:  138.39\n",
      "RMSE: 548.05\n",
      "R²:   0.2725\n"
     ]
    }
   ],
   "source": [
    "# Ewaluacja\n",
    "model.eval()\n",
    "with torch.no_grad():\n",
    "    y_pred_tensor = model(X_test_tensor.to(device))\n",
    "    y_pred_log = y_pred_tensor.cpu().numpy()\n",
    "    y_pred_log = np.clip(y_pred_log, 0, 10)  # zabezpieczenie\n",
    "    y_true_log = y_test_tensor.numpy()\n",
    "\n",
    "# Cofnięcie log1p\n",
    "y_pred = np.expm1(y_pred_log)\n",
    "y_true = np.expm1(y_true_log)\n",
    "\n",
    "# Metryki\n",
    "mae = mean_absolute_error(y_true, y_pred)\n",
    "rmse = np.sqrt(mean_squared_error(y_true, y_pred))\n",
    "r2 = r2_score(y_true, y_pred)\n",
    "\n",
    "print(f\"MAE:  {mae:.2f}\")\n",
    "print(f\"RMSE: {rmse:.2f}\")\n",
    "print(f\"R²:   {r2:.4f}\")"
   ]
  },
  {
   "cell_type": "code",
   "execution_count": 20,
   "id": "548ed66c",
   "metadata": {},
   "outputs": [
    {
     "data": {
      "image/png": "[encoded data removed]",
      "text/plain": [
       "<Figure size 800x600 with 1 Axes>"
      ]
     },
     "metadata": {},
     "output_type": "display_data"
    }
   ],
   "source": [
    "# Wykres\n",
    "plt.figure(figsize=(8, 6))\n",
    "plt.scatter(y_true, y_pred, alpha=0.3)\n",
    "plt.plot([y_true.min(), y_true.max()], [y_true.min(), y_true.max()], 'r--')\n",
    "plt.xlabel(\"Rzeczywista cena\")\n",
    "plt.ylabel(\"Przewidywana cena\")\n",
    "plt.title(\"Predykcja ceny vs. Rzeczywistość\")\n",
    "plt.grid(True)\n",
    "plt.tight_layout()\n",
    "plt.show()"
   ]
  }
 ],
 "metadata": {
  "colab": {
   "provenance": []
  },
  "kernelspec": {
   "display_name": "Python 3",
   "name": "python3"
  },
  "language_info": {
   "codemirror_mode": {
    "name": "ipython",
    "version": 3
   },
   "file_extension": ".py",
   "mimetype": "text/x-python",
   "name": "python",
   "nbconvert_exporter": "python",
   "pygments_lexer": "ipython3",
   "version": "3.10.12"
  }
 },
 "nbformat": 4,
 "nbformat_minor": 0
}
