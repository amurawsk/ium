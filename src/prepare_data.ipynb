{
  "cells": [
    {
      "cell_type": "markdown",
      "metadata": {
        "id": "V9l7iUV2yCLn"
      },
      "source": [
        "# Importy"
      ]
    },
    {
      "cell_type": "code",
      "execution_count": 1,
      "metadata": {
        "id": "rIMCLKgNx_xa"
      },
      "outputs": [],
      "source": [
        "import pandas as pd\n",
        "from sklearn.preprocessing import OneHotEncoder\n",
        "import numpy as np\n",
        "import re\n",
        "from collections import Counter\n",
        "import ast"
      ]
    },
    {
      "cell_type": "markdown",
      "metadata": {
        "id": "OtSmLJu7DczJ"
      },
      "source": [
        "# Podstawowe wczytanie"
      ]
    },
    {
      "cell_type": "code",
      "execution_count": null,
      "metadata": {
        "id": "QdhMKGvJ7U50"
      },
      "outputs": [
        {
          "ename": "ParserError",
          "evalue": "Error tokenizing data. C error: Expected 1 fields in line 11, saw 2\n",
          "output_type": "error",
          "traceback": [
            "\u001b[0;31m---------------------------------------------------------------------------\u001b[0m",
            "\u001b[0;31mParserError\u001b[0m                               Traceback (most recent call last)",
            "Cell \u001b[0;32mIn[3], line 2\u001b[0m\n\u001b[1;32m      1\u001b[0m \u001b[38;5;66;03m# podstawowe wczytanie plików\u001b[39;00m\n\u001b[0;32m----> 2\u001b[0m listings \u001b[38;5;241m=\u001b[39m \u001b[43mpd\u001b[49m\u001b[38;5;241;43m.\u001b[39;49m\u001b[43mread_csv\u001b[49m\u001b[43m(\u001b[49m\u001b[38;5;124;43m'\u001b[39;49m\u001b[38;5;124;43m../data/listings.csv\u001b[39;49m\u001b[38;5;124;43m'\u001b[39;49m\u001b[43m,\u001b[49m\u001b[43m \u001b[49m\u001b[43msep\u001b[49m\u001b[38;5;241;43m=\u001b[39;49m\u001b[38;5;124;43m'\u001b[39;49m\u001b[38;5;124;43m;\u001b[39;49m\u001b[38;5;124;43m'\u001b[39;49m\u001b[43m)\u001b[49m\n\u001b[1;32m      3\u001b[0m calendar \u001b[38;5;241m=\u001b[39m pd\u001b[38;5;241m.\u001b[39mread_csv(\u001b[38;5;124m'\u001b[39m\u001b[38;5;124m../data/calendar.csv\u001b[39m\u001b[38;5;124m'\u001b[39m, sep\u001b[38;5;241m=\u001b[39m\u001b[38;5;124m'\u001b[39m\u001b[38;5;124m;\u001b[39m\u001b[38;5;124m'\u001b[39m)\n\u001b[1;32m      5\u001b[0m \u001b[38;5;66;03m# usunięcie $ i konwersja price na float\u001b[39;00m\n",
            "File \u001b[0;32m~/.local/lib/python3.10/site-packages/pandas/io/parsers/readers.py:1026\u001b[0m, in \u001b[0;36mread_csv\u001b[0;34m(filepath_or_buffer, sep, delimiter, header, names, index_col, usecols, dtype, engine, converters, true_values, false_values, skipinitialspace, skiprows, skipfooter, nrows, na_values, keep_default_na, na_filter, verbose, skip_blank_lines, parse_dates, infer_datetime_format, keep_date_col, date_parser, date_format, dayfirst, cache_dates, iterator, chunksize, compression, thousands, decimal, lineterminator, quotechar, quoting, doublequote, escapechar, comment, encoding, encoding_errors, dialect, on_bad_lines, delim_whitespace, low_memory, memory_map, float_precision, storage_options, dtype_backend)\u001b[0m\n\u001b[1;32m   1013\u001b[0m kwds_defaults \u001b[38;5;241m=\u001b[39m _refine_defaults_read(\n\u001b[1;32m   1014\u001b[0m     dialect,\n\u001b[1;32m   1015\u001b[0m     delimiter,\n\u001b[0;32m   (...)\u001b[0m\n\u001b[1;32m   1022\u001b[0m     dtype_backend\u001b[38;5;241m=\u001b[39mdtype_backend,\n\u001b[1;32m   1023\u001b[0m )\n\u001b[1;32m   1024\u001b[0m kwds\u001b[38;5;241m.\u001b[39mupdate(kwds_defaults)\n\u001b[0;32m-> 1026\u001b[0m \u001b[38;5;28;01mreturn\u001b[39;00m \u001b[43m_read\u001b[49m\u001b[43m(\u001b[49m\u001b[43mfilepath_or_buffer\u001b[49m\u001b[43m,\u001b[49m\u001b[43m \u001b[49m\u001b[43mkwds\u001b[49m\u001b[43m)\u001b[49m\n",
            "File \u001b[0;32m~/.local/lib/python3.10/site-packages/pandas/io/parsers/readers.py:626\u001b[0m, in \u001b[0;36m_read\u001b[0;34m(filepath_or_buffer, kwds)\u001b[0m\n\u001b[1;32m    623\u001b[0m     \u001b[38;5;28;01mreturn\u001b[39;00m parser\n\u001b[1;32m    625\u001b[0m \u001b[38;5;28;01mwith\u001b[39;00m parser:\n\u001b[0;32m--> 626\u001b[0m     \u001b[38;5;28;01mreturn\u001b[39;00m \u001b[43mparser\u001b[49m\u001b[38;5;241;43m.\u001b[39;49m\u001b[43mread\u001b[49m\u001b[43m(\u001b[49m\u001b[43mnrows\u001b[49m\u001b[43m)\u001b[49m\n",
            "File \u001b[0;32m~/.local/lib/python3.10/site-packages/pandas/io/parsers/readers.py:1923\u001b[0m, in \u001b[0;36mTextFileReader.read\u001b[0;34m(self, nrows)\u001b[0m\n\u001b[1;32m   1916\u001b[0m nrows \u001b[38;5;241m=\u001b[39m validate_integer(\u001b[38;5;124m\"\u001b[39m\u001b[38;5;124mnrows\u001b[39m\u001b[38;5;124m\"\u001b[39m, nrows)\n\u001b[1;32m   1917\u001b[0m \u001b[38;5;28;01mtry\u001b[39;00m:\n\u001b[1;32m   1918\u001b[0m     \u001b[38;5;66;03m# error: \"ParserBase\" has no attribute \"read\"\u001b[39;00m\n\u001b[1;32m   1919\u001b[0m     (\n\u001b[1;32m   1920\u001b[0m         index,\n\u001b[1;32m   1921\u001b[0m         columns,\n\u001b[1;32m   1922\u001b[0m         col_dict,\n\u001b[0;32m-> 1923\u001b[0m     ) \u001b[38;5;241m=\u001b[39m \u001b[38;5;28;43mself\u001b[39;49m\u001b[38;5;241;43m.\u001b[39;49m\u001b[43m_engine\u001b[49m\u001b[38;5;241;43m.\u001b[39;49m\u001b[43mread\u001b[49m\u001b[43m(\u001b[49m\u001b[43m  \u001b[49m\u001b[38;5;66;43;03m# type: ignore[attr-defined]\u001b[39;49;00m\n\u001b[1;32m   1924\u001b[0m \u001b[43m        \u001b[49m\u001b[43mnrows\u001b[49m\n\u001b[1;32m   1925\u001b[0m \u001b[43m    \u001b[49m\u001b[43m)\u001b[49m\n\u001b[1;32m   1926\u001b[0m \u001b[38;5;28;01mexcept\u001b[39;00m \u001b[38;5;167;01mException\u001b[39;00m:\n\u001b[1;32m   1927\u001b[0m     \u001b[38;5;28mself\u001b[39m\u001b[38;5;241m.\u001b[39mclose()\n",
            "File \u001b[0;32m~/.local/lib/python3.10/site-packages/pandas/io/parsers/c_parser_wrapper.py:234\u001b[0m, in \u001b[0;36mCParserWrapper.read\u001b[0;34m(self, nrows)\u001b[0m\n\u001b[1;32m    232\u001b[0m \u001b[38;5;28;01mtry\u001b[39;00m:\n\u001b[1;32m    233\u001b[0m     \u001b[38;5;28;01mif\u001b[39;00m \u001b[38;5;28mself\u001b[39m\u001b[38;5;241m.\u001b[39mlow_memory:\n\u001b[0;32m--> 234\u001b[0m         chunks \u001b[38;5;241m=\u001b[39m \u001b[38;5;28;43mself\u001b[39;49m\u001b[38;5;241;43m.\u001b[39;49m\u001b[43m_reader\u001b[49m\u001b[38;5;241;43m.\u001b[39;49m\u001b[43mread_low_memory\u001b[49m\u001b[43m(\u001b[49m\u001b[43mnrows\u001b[49m\u001b[43m)\u001b[49m\n\u001b[1;32m    235\u001b[0m         \u001b[38;5;66;03m# destructive to chunks\u001b[39;00m\n\u001b[1;32m    236\u001b[0m         data \u001b[38;5;241m=\u001b[39m _concatenate_chunks(chunks)\n",
            "File \u001b[0;32mparsers.pyx:838\u001b[0m, in \u001b[0;36mpandas._libs.parsers.TextReader.read_low_memory\u001b[0;34m()\u001b[0m\n",
            "File \u001b[0;32mparsers.pyx:905\u001b[0m, in \u001b[0;36mpandas._libs.parsers.TextReader._read_rows\u001b[0;34m()\u001b[0m\n",
            "File \u001b[0;32mparsers.pyx:874\u001b[0m, in \u001b[0;36mpandas._libs.parsers.TextReader._tokenize_rows\u001b[0;34m()\u001b[0m\n",
            "File \u001b[0;32mparsers.pyx:891\u001b[0m, in \u001b[0;36mpandas._libs.parsers.TextReader._check_tokenize_status\u001b[0;34m()\u001b[0m\n",
            "File \u001b[0;32mparsers.pyx:2061\u001b[0m, in \u001b[0;36mpandas._libs.parsers.raise_parser_error\u001b[0;34m()\u001b[0m\n",
            "\u001b[0;31mParserError\u001b[0m: Error tokenizing data. C error: Expected 1 fields in line 11, saw 2\n"
          ]
        }
      ],
      "source": [
        "# podstawowe wczytanie plików\n",
        "listings = pd.read_csv('../data/listings.csv', sep=';')\n",
        "calendar = pd.read_csv('../data/calendar.csv', sep=';')\n",
        "\n",
        "# usunięcie $ i konwersja price na float\n",
        "calendar['price'] = calendar['price'].str.replace(r'[\\$,]', '', regex=True).astype(float)"
      ]
    },
    {
      "cell_type": "code",
      "execution_count": 101,
      "metadata": {
        "id": "5jrf8J4QDPEp"
      },
      "outputs": [],
      "source": [
        "# zostawiamy tylko wybrane kolumny\n",
        "columns_to_keep = [\n",
        "    'id',\n",
        "    'neighbourhood_cleansed',\n",
        "    'neighbourhood_group_cleansed',\n",
        "    'latitude',\n",
        "    'longitude',\n",
        "    'property_type',\n",
        "    'room_type',\n",
        "    'accommodates',\n",
        "    'bathrooms',\n",
        "    'bathrooms_text',\n",
        "    'bedrooms',\n",
        "    'beds',\n",
        "    'amenities',\n",
        "    'instant_bookable',\n",
        "    'price'\n",
        "]\n",
        "\n",
        "listings = listings[columns_to_keep]"
      ]
    },
    {
      "cell_type": "code",
      "execution_count": 102,
      "metadata": {
        "colab": {
          "base_uri": "https://localhost:8080/"
        },
        "id": "IX0tuu2TOlD_",
        "outputId": "96193894-4307-4da0-98a1-aa917961de4f"
      },
      "outputs": [
        {
          "name": "stdout",
          "output_type": "stream",
          "text": [
            "            id           neighbourhood_cleansed neighbourhood_group_cleansed  \\\n",
            "0     16989407                la Vila de Gràcia                       Gràcia   \n",
            "1     34133454                la Vila de Gràcia                       Gràcia   \n",
            "2  1,04185E+18           la Dreta de l'Eixample                     Eixample   \n",
            "3  6,95612E+17                      el Poblenou                   Sant Martí   \n",
            "4       847195  l'Antiga Esquerra de l'Eixample                     Eixample   \n",
            "\n",
            "    latitude  longitude                property_type        room_type  \\\n",
            "0  41.409920   2.157330         Private room in home     Private room   \n",
            "1  41.397630   2.159340    Entire serviced apartment  Entire home/apt   \n",
            "2  41.394798   2.165613           Entire rental unit  Entire home/apt   \n",
            "3  41.399490   2.202610  Private room in rental unit     Private room   \n",
            "4  41.385080   2.155270           Entire rental unit  Entire home/apt   \n",
            "\n",
            "   accommodates  bathrooms    bathrooms_text  bedrooms  beds  \\\n",
            "0             2        NaN  1.5 shared baths       NaN   NaN   \n",
            "1             3        1.0            1 bath       1.0   1.0   \n",
            "2             2        1.0            1 bath       1.0   1.0   \n",
            "3             2        1.0     1 shared bath       1.0   1.0   \n",
            "4             4        2.0           2 baths       2.0   3.0   \n",
            "\n",
            "                                           amenities instant_bookable    price  \n",
            "0  [\"Dryer\", \"TV\", \"Wifi\", \"Washer\", \"First aid k...                f      NaN  \n",
            "1  [\"Shampoo\", \"TV\", \"Wifi\", \"Dishes and silverwa...                t  $237.00  \n",
            "2  [\"Safe\", \"Garden view\", \"Blender\", \"Shampoo\", ...                t  $176.00  \n",
            "3  [\"Fast wifi \\u2013 328 Mbps\", \"Refrigerator\", ...                f   $81.00  \n",
            "4  [\"Patio or balcony\", \"Coffee maker\", \"Shampoo\"...                f  $135.00  \n"
          ]
        }
      ],
      "source": [
        "print(listings.head())"
      ]
    },
    {
      "cell_type": "markdown",
      "metadata": {
        "id": "VIK0LonXDgVI"
      },
      "source": [
        "# Dodanie ceny (target)"
      ]
    },
    {
      "cell_type": "code",
      "execution_count": 103,
      "metadata": {
        "colab": {
          "base_uri": "https://localhost:8080/"
        },
        "id": "tm4mFc_E7ZxX",
        "outputId": "8d5a7445-f9cf-4849-efb0-1f8043511aa9"
      },
      "outputs": [
        {
          "name": "stdout",
          "output_type": "stream",
          "text": [
            "Każdy listing z listings_excel_ready ma wpis w calendar.\n"
          ]
        }
      ],
      "source": [
        "# chcemy dla każdego listingu mieć jedną cenę (price z listings_excel_ready nie spełnia tego, bo a)to jest 'local currency', a b)są braki dla niektórych listingów\n",
        "# można usunąć tą kolumnę\n",
        "listings.drop(columns=['price'], inplace=True)\n",
        "# więc sprawdzamy czy każdy listing z listings_excel_ready ma przynajmniej jeden wpis w calendar\n",
        "listings_ids = set(listings['id'])\n",
        "calendar_listing_ids = set(calendar['listing_id'])\n",
        "\n",
        "missing_in_calendar = listings_ids - calendar_listing_ids\n",
        "\n",
        "if missing_in_calendar:\n",
        "    print(f\"Brak wpisów w calendar dla listingów o ID: {missing_in_calendar}\")\n",
        "else:\n",
        "    print(\"Każdy listing z listings_excel_ready ma wpis w calendar.\")"
      ]
    },
    {
      "cell_type": "code",
      "execution_count": 104,
      "metadata": {
        "id": "nwbR2A9h7eR_"
      },
      "outputs": [],
      "source": [
        "# skoro tak to możemy tego użyć - chcemy połączyć listingi z odpowiednią ceną, sprawdzamy ile jest unikalnych wartości\n",
        "price_stats = calendar.groupby('listing_id')['price'].agg(\n",
        "    nunique='nunique',\n",
        "    min='min',\n",
        "    max='max',\n",
        "    mean='mean',\n",
        "    median='median'\n",
        ").reset_index()\n",
        "\n",
        "# niektóre listingi mają różne ceny w zależnosci od dnia - my chcemy jedną wartość, dlatego dla tych przypadków bierzemy medianę\n",
        "price_stats['final_price'] = price_stats.apply(\n",
        "    lambda row: row['median'] if row['nunique'] > 1 else row['min'],\n",
        "    axis=1\n",
        ")"
      ]
    },
    {
      "cell_type": "code",
      "execution_count": 105,
      "metadata": {
        "id": "h7pKcdXp9MMA"
      },
      "outputs": [],
      "source": [
        "# dodajemy kolumnę\n",
        "listings = listings.merge(price_stats[['listing_id', 'final_price']], left_on='id', right_on='listing_id', how='left')\n",
        "\n",
        "listings.drop(columns=['listing_id'], inplace=True)\n",
        "listings.rename(columns={'final_price': 'price'}, inplace=True)"
      ]
    },
    {
      "cell_type": "markdown",
      "metadata": {
        "id": "30VgU2qxDl60"
      },
      "source": [
        "# Uzupełnienie brakujących danych"
      ]
    },
    {
      "cell_type": "code",
      "execution_count": 106,
      "metadata": {
        "colab": {
          "base_uri": "https://localhost:8080/"
        },
        "id": "gVzW-4eJDoya",
        "outputId": "c94fc559-cc21-49c8-8a61-7594e455e61b"
      },
      "outputs": [
        {
          "name": "stdout",
          "output_type": "stream",
          "text": [
            "Kolumny, w których są puste wartości:  ['bathrooms', 'bathrooms_text', 'bedrooms', 'beds']\n"
          ]
        }
      ],
      "source": [
        "# w tych kolumnach dane są niepełne\n",
        "columns_with_nan = listings.columns[listings.isnull().any()].tolist()\n",
        "print('Kolumny, w których są puste wartości: ', columns_with_nan)"
      ]
    },
    {
      "cell_type": "markdown",
      "metadata": {
        "id": "b_1WXLUELxov"
      },
      "source": [
        "## Dodanie mediany do bedrooms i beds"
      ]
    },
    {
      "cell_type": "code",
      "execution_count": 107,
      "metadata": {
        "id": "XdeEsXrFDrLz"
      },
      "outputs": [],
      "source": [
        "# bedrooms i beds wypełniamy poprzez medianę z pozostałych listingów\n",
        "listings['bedrooms'] = listings['bedrooms'].fillna(listings['bedrooms'].median())\n",
        "listings['beds'] = listings['beds'].fillna(listings['beds'].median())"
      ]
    },
    {
      "cell_type": "code",
      "execution_count": 108,
      "metadata": {
        "colab": {
          "base_uri": "https://localhost:8080/"
        },
        "id": "zwES9emmDr2y",
        "outputId": "0e563838-d504-463d-dc05-6643738bc9b4"
      },
      "outputs": [
        {
          "name": "stdout",
          "output_type": "stream",
          "text": [
            "Kolumny, w których są puste wartości:  ['bathrooms', 'bathrooms_text']\n"
          ]
        }
      ],
      "source": [
        "# zostały bathrooms i bathrooms_text\n",
        "columns_with_nan = listings.columns[listings.isnull().any()].tolist()\n",
        "print('Kolumny, w których są puste wartości: ', columns_with_nan)"
      ]
    },
    {
      "cell_type": "markdown",
      "metadata": {
        "id": "od0fg3BrL6IA"
      },
      "source": [
        "## Ujednolicenie bathrooms i bathrooms_text"
      ]
    },
    {
      "cell_type": "code",
      "execution_count": 109,
      "metadata": {
        "id": "xJcvhM5hNLlF"
      },
      "outputs": [],
      "source": [
        "def normalize_half_bath(value):\n",
        "    if pd.isna(value):\n",
        "        return value\n",
        "    value = value.strip().lower()\n",
        "    if value == 'half-bath':\n",
        "        return '0.5 bath'\n",
        "    elif value == 'shared half-bath':\n",
        "        return '0.5 shared bath'\n",
        "    elif value == 'private half-bath':\n",
        "        return '0.5 private bath'\n",
        "    return value\n",
        "\n",
        "# pojedyncze wartości odbiegają od typowego 'liczba + suffix', więc naprawiamy to\n",
        "listings['bathrooms_text'] = listings['bathrooms_text'].apply(normalize_half_bath)"
      ]
    },
    {
      "cell_type": "code",
      "execution_count": 110,
      "metadata": {
        "id": "ciF7HpX_Fo1J"
      },
      "outputs": [],
      "source": [
        "def extract_bathrooms_num(text):\n",
        "    if pd.isna(text) or text == 'nan':\n",
        "        return np.nan\n",
        "    match = re.match(r'^(\\d*\\.?\\d+)', text)\n",
        "    if match:\n",
        "        return float(match.group(1))\n",
        "    return np.nan\n",
        "\n",
        "def extract_suffix(text):\n",
        "    if pd.isna(text) or text == 'nan':\n",
        "        return np.nan\n",
        "    match = re.match(r'^\\d*\\.?\\d+\\s*(.*)$', text)\n",
        "    if match:\n",
        "        return match.group(1).strip()\n",
        "    return np.nan\n",
        "\n",
        "# dodajemy bathrooms_num i bathrooms_suffix - to będą nasze dane o łazienkach\n",
        "listings['bathrooms_text_num'] = listings['bathrooms_text'].apply(extract_bathrooms_num)\n",
        "listings['bathrooms_suffix'] = listings['bathrooms_text'].apply(extract_suffix)\n",
        "listings['bathrooms_num_old'] = pd.to_numeric(listings['bathrooms'], errors='coerce')\n",
        "listings['bathrooms_num'] = listings['bathrooms_text_num'].combine_first(listings['bathrooms_num_old'])\n",
        "listings['bathrooms_suffix'] = listings['bathrooms_suffix'].fillna('missing')"
      ]
    },
    {
      "cell_type": "code",
      "execution_count": 111,
      "metadata": {
        "colab": {
          "base_uri": "https://localhost:8080/"
        },
        "id": "Mfub7lw5GcU_",
        "outputId": "31c04f95-8451-46b0-c78b-1cb4af4eecac"
      },
      "outputs": [
        {
          "name": "stdout",
          "output_type": "stream",
          "text": [
            "            id           neighbourhood_cleansed neighbourhood_group_cleansed  \\\n",
            "0     16989407                la Vila de Gràcia                       Gràcia   \n",
            "1     34133454                la Vila de Gràcia                       Gràcia   \n",
            "2  1,04185E+18           la Dreta de l'Eixample                     Eixample   \n",
            "3  6,95612E+17                      el Poblenou                   Sant Martí   \n",
            "4       847195  l'Antiga Esquerra de l'Eixample                     Eixample   \n",
            "\n",
            "    latitude  longitude                property_type        room_type  \\\n",
            "0  41.409920   2.157330         Private room in home     Private room   \n",
            "1  41.397630   2.159340    Entire serviced apartment  Entire home/apt   \n",
            "2  41.394798   2.165613           Entire rental unit  Entire home/apt   \n",
            "3  41.399490   2.202610  Private room in rental unit     Private room   \n",
            "4  41.385080   2.155270           Entire rental unit  Entire home/apt   \n",
            "\n",
            "   accommodates  bathrooms    bathrooms_text  bedrooms  beds  \\\n",
            "0             2        NaN  1.5 shared baths       1.0   2.0   \n",
            "1             3        1.0            1 bath       1.0   1.0   \n",
            "2             2        1.0            1 bath       1.0   1.0   \n",
            "3             2        1.0     1 shared bath       1.0   1.0   \n",
            "4             4        2.0           2 baths       2.0   3.0   \n",
            "\n",
            "                                           amenities instant_bookable  price  \\\n",
            "0  [\"Dryer\", \"TV\", \"Wifi\", \"Washer\", \"First aid k...                f  150.0   \n",
            "1  [\"Shampoo\", \"TV\", \"Wifi\", \"Dishes and silverwa...                t  999.0   \n",
            "2  [\"Safe\", \"Garden view\", \"Blender\", \"Shampoo\", ...                t  200.0   \n",
            "3  [\"Fast wifi \\u2013 328 Mbps\", \"Refrigerator\", ...                f   90.0   \n",
            "4  [\"Patio or balcony\", \"Coffee maker\", \"Shampoo\"...                f   90.0   \n",
            "\n",
            "   bathrooms_text_num bathrooms_suffix  bathrooms_num_old  bathrooms_num  \n",
            "0                 1.5     shared baths                NaN            1.5  \n",
            "1                 1.0             bath                1.0            1.0  \n",
            "2                 1.0             bath                1.0            1.0  \n",
            "3                 1.0      shared bath                1.0            1.0  \n",
            "4                 2.0            baths                2.0            2.0  \n",
            "Możliwe suffixy:  ['shared baths' 'bath' 'shared bath' 'baths' 'private bath' 'missing']\n"
          ]
        }
      ],
      "source": [
        "print(listings.head())\n",
        "print('Możliwe suffixy: ', listings['bathrooms_suffix'].unique())"
      ]
    },
    {
      "cell_type": "code",
      "execution_count": 112,
      "metadata": {
        "id": "o-sYqthAHyIQ"
      },
      "outputs": [],
      "source": [
        "# usuwamy niepotrzebne stare kolumny\n",
        "listings.drop(columns=['bathrooms', 'bathrooms_text', 'bathrooms_text_num', 'bathrooms_num_old'], inplace=True)"
      ]
    },
    {
      "cell_type": "code",
      "execution_count": 113,
      "metadata": {
        "id": "jRA-mvibGZ_u"
      },
      "outputs": [],
      "source": [
        "# zamiast pola suffix - chcemy mieć typ - shared, private albo nieznany\n",
        "def classify_bathroom_type(suffix):\n",
        "    suffix = suffix.lower()\n",
        "    if 'shared' in suffix:\n",
        "        return 'shared'\n",
        "    elif 'private' in suffix:\n",
        "        return 'private'\n",
        "    else:\n",
        "        return 'unknown'\n",
        "\n",
        "listings['bathroom_type'] = listings['bathrooms_suffix'].apply(classify_bathroom_type)"
      ]
    },
    {
      "cell_type": "code",
      "execution_count": 114,
      "metadata": {
        "colab": {
          "base_uri": "https://localhost:8080/"
        },
        "id": "r6t03JUEGhKW",
        "outputId": "15548e9c-592d-4e12-be6e-6aa00b89604c"
      },
      "outputs": [
        {
          "name": "stdout",
          "output_type": "stream",
          "text": [
            "            id           neighbourhood_cleansed neighbourhood_group_cleansed  \\\n",
            "0     16989407                la Vila de Gràcia                       Gràcia   \n",
            "1     34133454                la Vila de Gràcia                       Gràcia   \n",
            "2  1,04185E+18           la Dreta de l'Eixample                     Eixample   \n",
            "3  6,95612E+17                      el Poblenou                   Sant Martí   \n",
            "4       847195  l'Antiga Esquerra de l'Eixample                     Eixample   \n",
            "\n",
            "    latitude  longitude                property_type        room_type  \\\n",
            "0  41.409920   2.157330         Private room in home     Private room   \n",
            "1  41.397630   2.159340    Entire serviced apartment  Entire home/apt   \n",
            "2  41.394798   2.165613           Entire rental unit  Entire home/apt   \n",
            "3  41.399490   2.202610  Private room in rental unit     Private room   \n",
            "4  41.385080   2.155270           Entire rental unit  Entire home/apt   \n",
            "\n",
            "   accommodates  bedrooms  beds  \\\n",
            "0             2       1.0   2.0   \n",
            "1             3       1.0   1.0   \n",
            "2             2       1.0   1.0   \n",
            "3             2       1.0   1.0   \n",
            "4             4       2.0   3.0   \n",
            "\n",
            "                                           amenities instant_bookable  price  \\\n",
            "0  [\"Dryer\", \"TV\", \"Wifi\", \"Washer\", \"First aid k...                f  150.0   \n",
            "1  [\"Shampoo\", \"TV\", \"Wifi\", \"Dishes and silverwa...                t  999.0   \n",
            "2  [\"Safe\", \"Garden view\", \"Blender\", \"Shampoo\", ...                t  200.0   \n",
            "3  [\"Fast wifi \\u2013 328 Mbps\", \"Refrigerator\", ...                f   90.0   \n",
            "4  [\"Patio or balcony\", \"Coffee maker\", \"Shampoo\"...                f   90.0   \n",
            "\n",
            "   bathrooms_num bathroom_type  \n",
            "0            1.5        shared  \n",
            "1            1.0       unknown  \n",
            "2            1.0       unknown  \n",
            "3            1.0        shared  \n",
            "4            2.0       unknown  \n",
            "Możliwe wartości type:  ['shared' 'unknown' 'private']\n"
          ]
        }
      ],
      "source": [
        "# usuwamy kolumnę suffix - mamy liczbę łazienek i ich typ\n",
        "listings.drop(columns=['bathrooms_suffix'], inplace=True)\n",
        "print(listings.head())\n",
        "print('Możliwe wartości type: ', listings['bathroom_type'].unique())"
      ]
    },
    {
      "cell_type": "code",
      "execution_count": 115,
      "metadata": {
        "colab": {
          "base_uri": "https://localhost:8080/"
        },
        "id": "l1W0D1GMIR6j",
        "outputId": "eddb6054-c6c4-4f1d-e635-f5c531531836"
      },
      "outputs": [
        {
          "name": "stdout",
          "output_type": "stream",
          "text": [
            "Liczba wierszy z brakami: 2\n",
            "Listing ID: 9,39973E+17, Brakujące kolumny: ['bathrooms_num']\n",
            "Listing ID: 1,1514E+18, Brakujące kolumny: ['bathrooms_num']\n"
          ]
        }
      ],
      "source": [
        "# sprawdzamy czy jakieś wiersze mają jeszcze brakujące wartości\n",
        "rows_with_nan = listings[listings.isnull().any(axis=1)]\n",
        "\n",
        "if not rows_with_nan.empty:\n",
        "    print(f\"Liczba wierszy z brakami: {len(rows_with_nan)}\")\n",
        "    for index, row in rows_with_nan.iterrows():\n",
        "        missing_cols = row[row.isnull()].index.tolist()\n",
        "        print(f\"Listing ID: {row['id']}, Brakujące kolumny: {missing_cols}\")\n",
        "else:\n",
        "    print(\"Brak brakujących danych (NaN) w listings.\")"
      ]
    },
    {
      "cell_type": "code",
      "execution_count": 116,
      "metadata": {
        "id": "LAZF_B0rNs-0"
      },
      "outputs": [],
      "source": [
        "# te dwa wiersze nie miały ani pola bathrooms, ani bathrooms_text - uzupełniamy liczbę medianą tak jak w przypadku beds\n",
        "listings['bathrooms_num'] = listings['bathrooms_num'].fillna(listings['bathrooms_num'].median())"
      ]
    },
    {
      "cell_type": "code",
      "execution_count": 117,
      "metadata": {
        "colab": {
          "base_uri": "https://localhost:8080/"
        },
        "id": "VsVZemMfOAQW",
        "outputId": "ab25a049-8fb4-440c-fbb9-e7c41b05ed13"
      },
      "outputs": [
        {
          "name": "stdout",
          "output_type": "stream",
          "text": [
            "Brak brakujących danych (NaN) w listings.\n"
          ]
        }
      ],
      "source": [
        "# teraz już nie ma brakujących danych\n",
        "rows_with_nan = listings[listings.isnull().any(axis=1)]\n",
        "\n",
        "if not rows_with_nan.empty:\n",
        "    print(f\"Liczba wierszy z brakami: {len(rows_with_nan)}\")\n",
        "    for index, row in rows_with_nan.iterrows():\n",
        "        missing_cols = row[row.isnull()].index.tolist()\n",
        "        print(f\"Listing ID: {row['id']}, Brakujące kolumny: {missing_cols}\")\n",
        "else:\n",
        "    print(\"Brak brakujących danych (NaN) w listings.\")"
      ]
    },
    {
      "cell_type": "code",
      "execution_count": 118,
      "metadata": {
        "colab": {
          "base_uri": "https://localhost:8080/"
        },
        "id": "oQpS_lLGRwIl",
        "outputId": "66555326-dac9-43aa-d174-55bdd6117d05"
      },
      "outputs": [
        {
          "name": "stdout",
          "output_type": "stream",
          "text": [
            "               id           neighbourhood_cleansed  \\\n",
            "0        16989407                la Vila de Gràcia   \n",
            "1        34133454                la Vila de Gràcia   \n",
            "2     1,04185E+18           la Dreta de l'Eixample   \n",
            "3     6,95612E+17                      el Poblenou   \n",
            "4          847195  l'Antiga Esquerra de l'Eixample   \n",
            "...           ...                              ...   \n",
            "5821  6,94423E+17                            Horta   \n",
            "5822      3905541            el Besòs i el Maresme   \n",
            "5823     22101214               la Sagrada Família   \n",
            "5824  1,21366E+18           la Dreta de l'Eixample   \n",
            "5825  7,72119E+17           la Dreta de l'Eixample   \n",
            "\n",
            "     neighbourhood_group_cleansed   latitude  longitude  \\\n",
            "0                          Gràcia  41.409920   2.157330   \n",
            "1                          Gràcia  41.397630   2.159340   \n",
            "2                        Eixample  41.394798   2.165613   \n",
            "3                      Sant Martí  41.399490   2.202610   \n",
            "4                        Eixample  41.385080   2.155270   \n",
            "...                           ...        ...        ...   \n",
            "5821               Horta-Guinardó  41.435440   2.159670   \n",
            "5822                   Sant Martí  41.417370   2.217320   \n",
            "5823                     Eixample  41.405109   2.175780   \n",
            "5824                     Eixample  41.391790   2.171751   \n",
            "5825                     Eixample  41.397334   2.165958   \n",
            "\n",
            "                    property_type        room_type  accommodates  bedrooms  \\\n",
            "0            Private room in home     Private room             2       1.0   \n",
            "1       Entire serviced apartment  Entire home/apt             3       1.0   \n",
            "2              Entire rental unit  Entire home/apt             2       1.0   \n",
            "3     Private room in rental unit     Private room             2       1.0   \n",
            "4              Entire rental unit  Entire home/apt             4       2.0   \n",
            "...                           ...              ...           ...       ...   \n",
            "5821  Private room in rental unit     Private room             3       1.0   \n",
            "5822           Entire rental unit  Entire home/apt             6       2.0   \n",
            "5823           Entire rental unit  Entire home/apt             5       2.0   \n",
            "5824           Entire guest suite  Entire home/apt             2       1.0   \n",
            "5825           Entire rental unit  Entire home/apt             3       2.0   \n",
            "\n",
            "      beds                                          amenities  \\\n",
            "0      2.0  [\"Dryer\", \"TV\", \"Wifi\", \"Washer\", \"First aid k...   \n",
            "1      1.0  [\"Shampoo\", \"TV\", \"Wifi\", \"Dishes and silverwa...   \n",
            "2      1.0  [\"Safe\", \"Garden view\", \"Blender\", \"Shampoo\", ...   \n",
            "3      1.0  [\"Fast wifi \\u2013 328 Mbps\", \"Refrigerator\", ...   \n",
            "4      3.0  [\"Patio or balcony\", \"Coffee maker\", \"Shampoo\"...   \n",
            "...    ...                                                ...   \n",
            "5821   3.0  [\"Free parking on premises\", \"Long term stays ...   \n",
            "5822   3.0  [\"Shampoo\", \"Refrigerator\", \"Room-darkening sh...   \n",
            "5823   4.0  [\"Patio or balcony\", \"Coffee maker\", \"Refriger...   \n",
            "5824   1.0  [\"Dedicated workspace\", \"Shampoo\", \"Refrigerat...   \n",
            "5825   2.0  [\"Patio or balcony\", \"Shampoo\", \"Refrigerator\"...   \n",
            "\n",
            "     instant_bookable  price  bathrooms_num bathroom_type  \n",
            "0                   f  150.0            1.5        shared  \n",
            "1                   t  999.0            1.0       unknown  \n",
            "2                   t  200.0            1.0       unknown  \n",
            "3                   f   90.0            1.0        shared  \n",
            "4                   f   90.0            2.0       unknown  \n",
            "...               ...    ...            ...           ...  \n",
            "5821                f   49.0            1.0        shared  \n",
            "5822                t  204.0            2.0       unknown  \n",
            "5823                t  175.0            1.0       unknown  \n",
            "5824                f  310.0            1.0       unknown  \n",
            "5825                t  128.0            1.5       unknown  \n",
            "\n",
            "[5826 rows x 15 columns]\n"
          ]
        }
      ],
      "source": [
        "print(listings)"
      ]
    },
    {
      "cell_type": "markdown",
      "metadata": {
        "id": "j9zezynjR8Vr"
      },
      "source": [
        "## Zamiana instant_bookable"
      ]
    },
    {
      "cell_type": "code",
      "execution_count": 119,
      "metadata": {
        "id": "pcAtQCGoR-Eu"
      },
      "outputs": [],
      "source": [
        "# zamiast instant bookable t/f chcemy 1/0\n",
        "listings['instant_bookable'] = listings['instant_bookable'].map({'t': 1, 'f': 0})"
      ]
    },
    {
      "cell_type": "code",
      "execution_count": 120,
      "metadata": {
        "colab": {
          "base_uri": "https://localhost:8080/"
        },
        "id": "4zfiB4omSBhl",
        "outputId": "81f6c790-6183-4ec4-eae8-cf0eb71a0cd1"
      },
      "outputs": [
        {
          "name": "stdout",
          "output_type": "stream",
          "text": [
            "               id           neighbourhood_cleansed  \\\n",
            "0        16989407                la Vila de Gràcia   \n",
            "1        34133454                la Vila de Gràcia   \n",
            "2     1,04185E+18           la Dreta de l'Eixample   \n",
            "3     6,95612E+17                      el Poblenou   \n",
            "4          847195  l'Antiga Esquerra de l'Eixample   \n",
            "...           ...                              ...   \n",
            "5821  6,94423E+17                            Horta   \n",
            "5822      3905541            el Besòs i el Maresme   \n",
            "5823     22101214               la Sagrada Família   \n",
            "5824  1,21366E+18           la Dreta de l'Eixample   \n",
            "5825  7,72119E+17           la Dreta de l'Eixample   \n",
            "\n",
            "     neighbourhood_group_cleansed   latitude  longitude  \\\n",
            "0                          Gràcia  41.409920   2.157330   \n",
            "1                          Gràcia  41.397630   2.159340   \n",
            "2                        Eixample  41.394798   2.165613   \n",
            "3                      Sant Martí  41.399490   2.202610   \n",
            "4                        Eixample  41.385080   2.155270   \n",
            "...                           ...        ...        ...   \n",
            "5821               Horta-Guinardó  41.435440   2.159670   \n",
            "5822                   Sant Martí  41.417370   2.217320   \n",
            "5823                     Eixample  41.405109   2.175780   \n",
            "5824                     Eixample  41.391790   2.171751   \n",
            "5825                     Eixample  41.397334   2.165958   \n",
            "\n",
            "                    property_type        room_type  accommodates  bedrooms  \\\n",
            "0            Private room in home     Private room             2       1.0   \n",
            "1       Entire serviced apartment  Entire home/apt             3       1.0   \n",
            "2              Entire rental unit  Entire home/apt             2       1.0   \n",
            "3     Private room in rental unit     Private room             2       1.0   \n",
            "4              Entire rental unit  Entire home/apt             4       2.0   \n",
            "...                           ...              ...           ...       ...   \n",
            "5821  Private room in rental unit     Private room             3       1.0   \n",
            "5822           Entire rental unit  Entire home/apt             6       2.0   \n",
            "5823           Entire rental unit  Entire home/apt             5       2.0   \n",
            "5824           Entire guest suite  Entire home/apt             2       1.0   \n",
            "5825           Entire rental unit  Entire home/apt             3       2.0   \n",
            "\n",
            "      beds                                          amenities  \\\n",
            "0      2.0  [\"Dryer\", \"TV\", \"Wifi\", \"Washer\", \"First aid k...   \n",
            "1      1.0  [\"Shampoo\", \"TV\", \"Wifi\", \"Dishes and silverwa...   \n",
            "2      1.0  [\"Safe\", \"Garden view\", \"Blender\", \"Shampoo\", ...   \n",
            "3      1.0  [\"Fast wifi \\u2013 328 Mbps\", \"Refrigerator\", ...   \n",
            "4      3.0  [\"Patio or balcony\", \"Coffee maker\", \"Shampoo\"...   \n",
            "...    ...                                                ...   \n",
            "5821   3.0  [\"Free parking on premises\", \"Long term stays ...   \n",
            "5822   3.0  [\"Shampoo\", \"Refrigerator\", \"Room-darkening sh...   \n",
            "5823   4.0  [\"Patio or balcony\", \"Coffee maker\", \"Refriger...   \n",
            "5824   1.0  [\"Dedicated workspace\", \"Shampoo\", \"Refrigerat...   \n",
            "5825   2.0  [\"Patio or balcony\", \"Shampoo\", \"Refrigerator\"...   \n",
            "\n",
            "      instant_bookable  price  bathrooms_num bathroom_type  \n",
            "0                    0  150.0            1.5        shared  \n",
            "1                    1  999.0            1.0       unknown  \n",
            "2                    1  200.0            1.0       unknown  \n",
            "3                    0   90.0            1.0        shared  \n",
            "4                    0   90.0            2.0       unknown  \n",
            "...                ...    ...            ...           ...  \n",
            "5821                 0   49.0            1.0        shared  \n",
            "5822                 1  204.0            2.0       unknown  \n",
            "5823                 1  175.0            1.0       unknown  \n",
            "5824                 0  310.0            1.0       unknown  \n",
            "5825                 1  128.0            1.5       unknown  \n",
            "\n",
            "[5826 rows x 15 columns]\n"
          ]
        }
      ],
      "source": [
        "print(listings)"
      ]
    },
    {
      "cell_type": "markdown",
      "metadata": {
        "id": "w0mEqbO0OpZ3"
      },
      "source": [
        "# One-hot encoding"
      ]
    },
    {
      "cell_type": "code",
      "execution_count": 121,
      "metadata": {
        "id": "YeJ047s_PIpP"
      },
      "outputs": [],
      "source": [
        "# listę udogodnień chcemy załatwić przez one-hot-encoding - wybieramy 50 najpopularniejszych\n",
        "all_amenities = Counter(item\n",
        "    for amenities in listings['amenities']\n",
        "    for item in ast.literal_eval(amenities)\n",
        ")"
      ]
    },
    {
      "cell_type": "code",
      "execution_count": 122,
      "metadata": {
        "colab": {
          "base_uri": "https://localhost:8080/"
        },
        "id": "ulXJd-nBS95c",
        "outputId": "b01dcdbe-8944-48d1-de02-83d3a2f467e9"
      },
      "outputs": [
        {
          "name": "stdout",
          "output_type": "stream",
          "text": [
            "[('Wifi', 5395), ('Kitchen', 5245), ('Hot water', 4332), ('Hair dryer', 4279), ('Hangers', 4194), ('Essentials', 4190), ('Iron', 4120), ('Dishes and silverware', 3948), ('Bed linens', 3789), ('Refrigerator', 3788), ('TV', 3653), ('Cooking basics', 3606), ('Heating', 3540), ('Washer', 3523), ('Microwave', 3522), ('Air conditioning', 3298), ('Elevator', 3065), ('Dedicated workspace', 2679), ('Shampoo', 2678), ('Oven', 2648), ('Coffee maker', 2552), ('Hot water kettle', 2312), ('Long term stays allowed', 2274), ('Freezer', 2240), ('Toaster', 2122), ('Dishwasher', 2100), ('Dining table', 2004), ('Stove', 1877), ('Cleaning products', 1807), ('Drying rack for clothing', 1793), ('Wine glasses', 1772), ('Host greets you', 1751), ('Room-darkening shades', 1714), ('Extra pillows and blankets', 1635), ('Shower gel', 1630), ('Body soap', 1526), ('Smoke alarm', 1512), ('Fire extinguisher', 1268), ('First aid kit', 1218), ('Luggage dropoff allowed', 1194), ('Self check-in', 1190), ('Patio or balcony', 1127), ('Crib', 1111), ('Clothing storage', 1088), ('Carbon monoxide alarm', 996), ('Free washer – In unit', 985), ('Pets allowed', 980), ('Private patio or balcony', 955), ('Lock on bedroom door', 945), ('Paid parking off premises', 926)]\n"
          ]
        }
      ],
      "source": [
        "print(all_amenities.most_common(50))"
      ]
    },
    {
      "cell_type": "code",
      "execution_count": 123,
      "metadata": {
        "id": "lOB4MUlIStoz"
      },
      "outputs": [],
      "source": [
        "# zamieniamy listę na wartości 1/0 w odpowiednich utworzonych przez one-hot kolumnach\n",
        "top_amenities = [item for item, count in all_amenities.most_common(50)]\n",
        "\n",
        "def has_amenity(amenities_str, amenity):\n",
        "    amenities_list = ast.literal_eval(amenities_str)\n",
        "    return int(amenity in amenities_list)\n",
        "\n",
        "for amenity in top_amenities:\n",
        "    listings[f'amenity_{amenity}'] = listings['amenities'].apply(lambda x: has_amenity(x, amenity))\n",
        "\n",
        "listings.drop(columns=['amenities'], inplace=True)"
      ]
    },
    {
      "cell_type": "code",
      "execution_count": 124,
      "metadata": {
        "colab": {
          "base_uri": "https://localhost:8080/"
        },
        "id": "HVTtA79rS5Os",
        "outputId": "d0d7d3fe-d555-4f68-c32c-f7b8b1f8ba9f"
      },
      "outputs": [
        {
          "name": "stdout",
          "output_type": "stream",
          "text": [
            "Index(['id', 'neighbourhood_cleansed', 'neighbourhood_group_cleansed',\n",
            "       'latitude', 'longitude', 'property_type', 'room_type', 'accommodates',\n",
            "       'bedrooms', 'beds', 'instant_bookable', 'price', 'bathrooms_num',\n",
            "       'bathroom_type', 'amenity_Wifi', 'amenity_Kitchen', 'amenity_Hot water',\n",
            "       'amenity_Hair dryer', 'amenity_Hangers', 'amenity_Essentials',\n",
            "       'amenity_Iron', 'amenity_Dishes and silverware', 'amenity_Bed linens',\n",
            "       'amenity_Refrigerator', 'amenity_TV', 'amenity_Cooking basics',\n",
            "       'amenity_Heating', 'amenity_Washer', 'amenity_Microwave',\n",
            "       'amenity_Air conditioning', 'amenity_Elevator',\n",
            "       'amenity_Dedicated workspace', 'amenity_Shampoo', 'amenity_Oven',\n",
            "       'amenity_Coffee maker', 'amenity_Hot water kettle',\n",
            "       'amenity_Long term stays allowed', 'amenity_Freezer', 'amenity_Toaster',\n",
            "       'amenity_Dishwasher', 'amenity_Dining table', 'amenity_Stove',\n",
            "       'amenity_Cleaning products', 'amenity_Drying rack for clothing',\n",
            "       'amenity_Wine glasses', 'amenity_Host greets you',\n",
            "       'amenity_Room-darkening shades', 'amenity_Extra pillows and blankets',\n",
            "       'amenity_Shower gel', 'amenity_Body soap', 'amenity_Smoke alarm',\n",
            "       'amenity_Fire extinguisher', 'amenity_First aid kit',\n",
            "       'amenity_Luggage dropoff allowed', 'amenity_Self check-in',\n",
            "       'amenity_Patio or balcony', 'amenity_Crib', 'amenity_Clothing storage',\n",
            "       'amenity_Carbon monoxide alarm', 'amenity_Free washer – In unit',\n",
            "       'amenity_Pets allowed', 'amenity_Private patio or balcony',\n",
            "       'amenity_Lock on bedroom door', 'amenity_Paid parking off premises'],\n",
            "      dtype='object')\n"
          ]
        }
      ],
      "source": [
        "print(listings.columns)"
      ]
    },
    {
      "cell_type": "code",
      "execution_count": 125,
      "metadata": {
        "id": "SNyRnkl8A13w"
      },
      "outputs": [],
      "source": [
        "# w tych kolumnach stosujemy one-hot\n",
        "categorical_cols = ['property_type', 'room_type', 'neighbourhood_cleansed', 'neighbourhood_group_cleansed', 'bathroom_type']\n",
        "\n",
        "encoder = OneHotEncoder(handle_unknown='ignore', sparse_output=False)\n",
        "encoded_array = encoder.fit_transform(listings[categorical_cols])\n",
        "encoded_cols = encoder.get_feature_names_out(categorical_cols)\n",
        "encoded_df = pd.DataFrame(encoded_array, columns=encoded_cols, index=listings.index)\n",
        "listings = pd.concat([listings.drop(columns=categorical_cols), encoded_df], axis=1)"
      ]
    },
    {
      "cell_type": "markdown",
      "metadata": {
        "id": "5TCl5tVUXT0i"
      },
      "source": [
        "# Zamiana kolejności"
      ]
    },
    {
      "cell_type": "code",
      "execution_count": 126,
      "metadata": {
        "id": "R1WDEePhXWRx"
      },
      "outputs": [],
      "source": [
        "cols = [col for col in listings.columns if col != 'price'] + ['price']\n",
        "listings = listings[cols]"
      ]
    },
    {
      "cell_type": "markdown",
      "metadata": {
        "id": "rB04ojsUWLbF"
      },
      "source": [
        "# Finalny efekt - dane po obróbce"
      ]
    },
    {
      "cell_type": "code",
      "execution_count": 127,
      "metadata": {
        "colab": {
          "base_uri": "https://localhost:8080/"
        },
        "id": "4YuXPATfWDjV",
        "outputId": "8b43ede9-4a70-4c97-858d-6f33984c2e70"
      },
      "outputs": [
        {
          "name": "stdout",
          "output_type": "stream",
          "text": [
            "id: object\n",
            "latitude: float64\n",
            "longitude: float64\n",
            "accommodates: int64\n",
            "bedrooms: float64\n",
            "beds: float64\n",
            "instant_bookable: int64\n",
            "bathrooms_num: float64\n",
            "amenity_Wifi: int64\n",
            "amenity_Kitchen: int64\n",
            "amenity_Hot water: int64\n",
            "amenity_Hair dryer: int64\n",
            "amenity_Hangers: int64\n",
            "amenity_Essentials: int64\n",
            "amenity_Iron: int64\n",
            "amenity_Dishes and silverware: int64\n",
            "amenity_Bed linens: int64\n",
            "amenity_Refrigerator: int64\n",
            "amenity_TV: int64\n",
            "amenity_Cooking basics: int64\n",
            "amenity_Heating: int64\n",
            "amenity_Washer: int64\n",
            "amenity_Microwave: int64\n",
            "amenity_Air conditioning: int64\n",
            "amenity_Elevator: int64\n",
            "amenity_Dedicated workspace: int64\n",
            "amenity_Shampoo: int64\n",
            "amenity_Oven: int64\n",
            "amenity_Coffee maker: int64\n",
            "amenity_Hot water kettle: int64\n",
            "amenity_Long term stays allowed: int64\n",
            "amenity_Freezer: int64\n",
            "amenity_Toaster: int64\n",
            "amenity_Dishwasher: int64\n",
            "amenity_Dining table: int64\n",
            "amenity_Stove: int64\n",
            "amenity_Cleaning products: int64\n",
            "amenity_Drying rack for clothing: int64\n",
            "amenity_Wine glasses: int64\n",
            "amenity_Host greets you: int64\n",
            "amenity_Room-darkening shades: int64\n",
            "amenity_Extra pillows and blankets: int64\n",
            "amenity_Shower gel: int64\n",
            "amenity_Body soap: int64\n",
            "amenity_Smoke alarm: int64\n",
            "amenity_Fire extinguisher: int64\n",
            "amenity_First aid kit: int64\n",
            "amenity_Luggage dropoff allowed: int64\n",
            "amenity_Self check-in: int64\n",
            "amenity_Patio or balcony: int64\n",
            "amenity_Crib: int64\n",
            "amenity_Clothing storage: int64\n",
            "amenity_Carbon monoxide alarm: int64\n",
            "amenity_Free washer – In unit: int64\n",
            "amenity_Pets allowed: int64\n",
            "amenity_Private patio or balcony: int64\n",
            "amenity_Lock on bedroom door: int64\n",
            "amenity_Paid parking off premises: int64\n",
            "property_type_Barn: float64\n",
            "property_type_Camper/RV: float64\n",
            "property_type_Dome: float64\n",
            "property_type_Entire cabin: float64\n",
            "property_type_Entire chalet: float64\n",
            "property_type_Entire condo: float64\n",
            "property_type_Entire guest suite: float64\n",
            "property_type_Entire guesthouse: float64\n",
            "property_type_Entire home: float64\n",
            "property_type_Entire hostel: float64\n",
            "property_type_Entire loft: float64\n",
            "property_type_Entire place: float64\n",
            "property_type_Entire rental unit: float64\n",
            "property_type_Entire serviced apartment: float64\n",
            "property_type_Entire townhouse: float64\n",
            "property_type_Entire vacation home: float64\n",
            "property_type_Entire villa: float64\n",
            "property_type_Private room: float64\n",
            "property_type_Private room in bed and breakfast: float64\n",
            "property_type_Private room in boat: float64\n",
            "property_type_Private room in casa particular: float64\n",
            "property_type_Private room in condo: float64\n",
            "property_type_Private room in dome: float64\n",
            "property_type_Private room in floor: float64\n",
            "property_type_Private room in guest suite: float64\n",
            "property_type_Private room in guesthouse: float64\n",
            "property_type_Private room in home: float64\n",
            "property_type_Private room in hostel: float64\n",
            "property_type_Private room in loft: float64\n",
            "property_type_Private room in rental unit: float64\n",
            "property_type_Private room in serviced apartment: float64\n",
            "property_type_Private room in tiny home: float64\n",
            "property_type_Private room in townhouse: float64\n",
            "property_type_Room in aparthotel: float64\n",
            "property_type_Room in bed and breakfast: float64\n",
            "property_type_Room in boutique hotel: float64\n",
            "property_type_Room in hostel: float64\n",
            "property_type_Room in hotel: float64\n",
            "property_type_Room in serviced apartment: float64\n",
            "property_type_Shared room in boutique hotel: float64\n",
            "property_type_Shared room in guesthouse: float64\n",
            "property_type_Shared room in home: float64\n",
            "property_type_Shared room in hostel: float64\n",
            "property_type_Shared room in hotel: float64\n",
            "property_type_Shared room in rental unit: float64\n",
            "property_type_Tiny home: float64\n",
            "room_type_Entire home/apt: float64\n",
            "room_type_Hotel room: float64\n",
            "room_type_Private room: float64\n",
            "room_type_Shared room: float64\n",
            "neighbourhood_cleansed_Baró de Viver: float64\n",
            "neighbourhood_cleansed_Can Baró: float64\n",
            "neighbourhood_cleansed_Can Peguera: float64\n",
            "neighbourhood_cleansed_Diagonal Mar i el Front Marítim del Poblenou: float64\n",
            "neighbourhood_cleansed_Horta: float64\n",
            "neighbourhood_cleansed_Hostafrancs: float64\n",
            "neighbourhood_cleansed_Montbau: float64\n",
            "neighbourhood_cleansed_Navas: float64\n",
            "neighbourhood_cleansed_Pedralbes: float64\n",
            "neighbourhood_cleansed_Porta: float64\n",
            "neighbourhood_cleansed_Provençals del Poblenou: float64\n",
            "neighbourhood_cleansed_Sant Andreu: float64\n",
            "neighbourhood_cleansed_Sant Antoni: float64\n",
            "neighbourhood_cleansed_Sant Genís dels Agudells: float64\n",
            "neighbourhood_cleansed_Sant Gervasi - Galvany: float64\n",
            "neighbourhood_cleansed_Sant Gervasi - la Bonanova: float64\n",
            "neighbourhood_cleansed_Sant Martí de Provençals: float64\n",
            "neighbourhood_cleansed_Sant Pere, Santa Caterina i la Ribera: float64\n",
            "neighbourhood_cleansed_Sants: float64\n",
            "neighbourhood_cleansed_Sants - Badal: float64\n",
            "neighbourhood_cleansed_Sarrià: float64\n",
            "neighbourhood_cleansed_Torre Baró: float64\n",
            "neighbourhood_cleansed_Vallcarca i els Penitents: float64\n",
            "neighbourhood_cleansed_Vallvidrera, el Tibidabo i les Planes: float64\n",
            "neighbourhood_cleansed_Verdun: float64\n",
            "neighbourhood_cleansed_Vilapicina i la Torre Llobeta: float64\n",
            "neighbourhood_cleansed_el Baix Guinardó: float64\n",
            "neighbourhood_cleansed_el Barri Gòtic: float64\n",
            "neighbourhood_cleansed_el Besòs i el Maresme: float64\n",
            "neighbourhood_cleansed_el Bon Pastor: float64\n",
            "neighbourhood_cleansed_el Camp d'en Grassot i Gràcia Nova: float64\n",
            "neighbourhood_cleansed_el Camp de l'Arpa del Clot: float64\n",
            "neighbourhood_cleansed_el Carmel: float64\n",
            "neighbourhood_cleansed_el Clot: float64\n",
            "neighbourhood_cleansed_el Coll: float64\n",
            "neighbourhood_cleansed_el Congrés i els Indians: float64\n",
            "neighbourhood_cleansed_el Fort Pienc: float64\n",
            "neighbourhood_cleansed_el Guinardó: float64\n",
            "neighbourhood_cleansed_el Parc i la Llacuna del Poblenou: float64\n",
            "neighbourhood_cleansed_el Poble Sec: float64\n",
            "neighbourhood_cleansed_el Poblenou: float64\n",
            "neighbourhood_cleansed_el Putxet i el Farró: float64\n",
            "neighbourhood_cleansed_el Raval: float64\n",
            "neighbourhood_cleansed_el Turó de la Peira: float64\n",
            "neighbourhood_cleansed_l'Antiga Esquerra de l'Eixample: float64\n",
            "neighbourhood_cleansed_la Barceloneta: float64\n",
            "neighbourhood_cleansed_la Bordeta: float64\n",
            "neighbourhood_cleansed_la Clota: float64\n",
            "neighbourhood_cleansed_la Dreta de l'Eixample: float64\n",
            "neighbourhood_cleansed_la Font d'en Fargues: float64\n",
            "neighbourhood_cleansed_la Font de la Guatlla: float64\n",
            "neighbourhood_cleansed_la Guineueta: float64\n",
            "neighbourhood_cleansed_la Marina de Port: float64\n",
            "neighbourhood_cleansed_la Marina del Prat Vermell: float64\n",
            "neighbourhood_cleansed_la Maternitat i Sant Ramon: float64\n",
            "neighbourhood_cleansed_la Nova Esquerra de l'Eixample: float64\n",
            "neighbourhood_cleansed_la Prosperitat: float64\n",
            "neighbourhood_cleansed_la Sagrada Família: float64\n",
            "neighbourhood_cleansed_la Sagrera: float64\n",
            "neighbourhood_cleansed_la Salut: float64\n",
            "neighbourhood_cleansed_la Teixonera: float64\n",
            "neighbourhood_cleansed_la Trinitat Nova: float64\n",
            "neighbourhood_cleansed_la Trinitat Vella: float64\n",
            "neighbourhood_cleansed_la Vall d'Hebron: float64\n",
            "neighbourhood_cleansed_la Verneda i la Pau: float64\n",
            "neighbourhood_cleansed_la Vila Olímpica del Poblenou: float64\n",
            "neighbourhood_cleansed_la Vila de Gràcia: float64\n",
            "neighbourhood_cleansed_les Corts: float64\n",
            "neighbourhood_cleansed_les Roquetes: float64\n",
            "neighbourhood_cleansed_les Tres Torres: float64\n",
            "neighbourhood_group_cleansed_Ciutat Vella: float64\n",
            "neighbourhood_group_cleansed_Eixample: float64\n",
            "neighbourhood_group_cleansed_Gràcia: float64\n",
            "neighbourhood_group_cleansed_Horta-Guinardó: float64\n",
            "neighbourhood_group_cleansed_Les Corts: float64\n",
            "neighbourhood_group_cleansed_Nou Barris: float64\n",
            "neighbourhood_group_cleansed_Sant Andreu: float64\n",
            "neighbourhood_group_cleansed_Sant Martí: float64\n",
            "neighbourhood_group_cleansed_Sants-Montjuïc: float64\n",
            "neighbourhood_group_cleansed_Sarrià-Sant Gervasi: float64\n",
            "bathroom_type_private: float64\n",
            "bathroom_type_shared: float64\n",
            "bathroom_type_unknown: float64\n",
            "price: float64\n"
          ]
        }
      ],
      "source": [
        "for col in listings.columns:\n",
        "    print(f\"{col}: {listings[col].dtype}\")"
      ]
    },
    {
      "cell_type": "code",
      "execution_count": 128,
      "metadata": {
        "colab": {
          "base_uri": "https://localhost:8080/"
        },
        "id": "nJf7A6DuWJQZ",
        "outputId": "15b2e063-d462-4752-f141-fa9cb28cc3d9"
      },
      "outputs": [
        {
          "name": "stdout",
          "output_type": "stream",
          "text": [
            "               id   latitude  longitude  accommodates  bedrooms  beds  \\\n",
            "0        16989407  41.409920   2.157330             2       1.0   2.0   \n",
            "1        34133454  41.397630   2.159340             3       1.0   1.0   \n",
            "2     1,04185E+18  41.394798   2.165613             2       1.0   1.0   \n",
            "3     6,95612E+17  41.399490   2.202610             2       1.0   1.0   \n",
            "4          847195  41.385080   2.155270             4       2.0   3.0   \n",
            "...           ...        ...        ...           ...       ...   ...   \n",
            "5821  6,94423E+17  41.435440   2.159670             3       1.0   3.0   \n",
            "5822      3905541  41.417370   2.217320             6       2.0   3.0   \n",
            "5823     22101214  41.405109   2.175780             5       2.0   4.0   \n",
            "5824  1,21366E+18  41.391790   2.171751             2       1.0   1.0   \n",
            "5825  7,72119E+17  41.397334   2.165958             3       2.0   2.0   \n",
            "\n",
            "      instant_bookable  bathrooms_num  amenity_Wifi  amenity_Kitchen  ...  \\\n",
            "0                    0            1.5             1                1  ...   \n",
            "1                    1            1.0             1                1  ...   \n",
            "2                    1            1.0             1                1  ...   \n",
            "3                    0            1.0             0                0  ...   \n",
            "4                    0            2.0             1                1  ...   \n",
            "...                ...            ...           ...              ...  ...   \n",
            "5821                 0            1.0             1                0  ...   \n",
            "5822                 1            2.0             1                1  ...   \n",
            "5823                 1            1.0             1                1  ...   \n",
            "5824                 0            1.0             1                1  ...   \n",
            "5825                 1            1.5             1                1  ...   \n",
            "\n",
            "      neighbourhood_group_cleansed_Les Corts  \\\n",
            "0                                        0.0   \n",
            "1                                        0.0   \n",
            "2                                        0.0   \n",
            "3                                        0.0   \n",
            "4                                        0.0   \n",
            "...                                      ...   \n",
            "5821                                     0.0   \n",
            "5822                                     0.0   \n",
            "5823                                     0.0   \n",
            "5824                                     0.0   \n",
            "5825                                     0.0   \n",
            "\n",
            "      neighbourhood_group_cleansed_Nou Barris  \\\n",
            "0                                         0.0   \n",
            "1                                         0.0   \n",
            "2                                         0.0   \n",
            "3                                         0.0   \n",
            "4                                         0.0   \n",
            "...                                       ...   \n",
            "5821                                      0.0   \n",
            "5822                                      0.0   \n",
            "5823                                      0.0   \n",
            "5824                                      0.0   \n",
            "5825                                      0.0   \n",
            "\n",
            "      neighbourhood_group_cleansed_Sant Andreu  \\\n",
            "0                                          0.0   \n",
            "1                                          0.0   \n",
            "2                                          0.0   \n",
            "3                                          0.0   \n",
            "4                                          0.0   \n",
            "...                                        ...   \n",
            "5821                                       0.0   \n",
            "5822                                       0.0   \n",
            "5823                                       0.0   \n",
            "5824                                       0.0   \n",
            "5825                                       0.0   \n",
            "\n",
            "      neighbourhood_group_cleansed_Sant Martí  \\\n",
            "0                                         0.0   \n",
            "1                                         0.0   \n",
            "2                                         0.0   \n",
            "3                                         1.0   \n",
            "4                                         0.0   \n",
            "...                                       ...   \n",
            "5821                                      0.0   \n",
            "5822                                      1.0   \n",
            "5823                                      0.0   \n",
            "5824                                      0.0   \n",
            "5825                                      0.0   \n",
            "\n",
            "      neighbourhood_group_cleansed_Sants-Montjuïc  \\\n",
            "0                                             0.0   \n",
            "1                                             0.0   \n",
            "2                                             0.0   \n",
            "3                                             0.0   \n",
            "4                                             0.0   \n",
            "...                                           ...   \n",
            "5821                                          0.0   \n",
            "5822                                          0.0   \n",
            "5823                                          0.0   \n",
            "5824                                          0.0   \n",
            "5825                                          0.0   \n",
            "\n",
            "      neighbourhood_group_cleansed_Sarrià-Sant Gervasi  bathroom_type_private  \\\n",
            "0                                                  0.0                    0.0   \n",
            "1                                                  0.0                    0.0   \n",
            "2                                                  0.0                    0.0   \n",
            "3                                                  0.0                    0.0   \n",
            "4                                                  0.0                    0.0   \n",
            "...                                                ...                    ...   \n",
            "5821                                               0.0                    0.0   \n",
            "5822                                               0.0                    0.0   \n",
            "5823                                               0.0                    0.0   \n",
            "5824                                               0.0                    0.0   \n",
            "5825                                               0.0                    0.0   \n",
            "\n",
            "      bathroom_type_shared  bathroom_type_unknown  price  \n",
            "0                      1.0                    0.0  150.0  \n",
            "1                      0.0                    1.0  999.0  \n",
            "2                      0.0                    1.0  200.0  \n",
            "3                      1.0                    0.0   90.0  \n",
            "4                      0.0                    1.0   90.0  \n",
            "...                    ...                    ...    ...  \n",
            "5821                   1.0                    0.0   49.0  \n",
            "5822                   0.0                    1.0  204.0  \n",
            "5823                   0.0                    1.0  175.0  \n",
            "5824                   0.0                    1.0  310.0  \n",
            "5825                   0.0                    1.0  128.0  \n",
            "\n",
            "[5826 rows x 192 columns]\n"
          ]
        }
      ],
      "source": [
        "print(listings)"
      ]
    },
    {
      "cell_type": "code",
      "execution_count": 129,
      "metadata": {
        "id": "eUhjOF3TYDpK"
      },
      "outputs": [],
      "source": [
        "listings.to_csv('final_data.csv', sep=';', index=False)"
      ]
    }
  ],
  "metadata": {
    "colab": {
      "provenance": [],
      "toc_visible": true
    },
    "kernelspec": {
      "display_name": "Python 3",
      "name": "python3"
    },
    "language_info": {
      "codemirror_mode": {
        "name": "ipython",
        "version": 3
      },
      "file_extension": ".py",
      "mimetype": "text/x-python",
      "name": "python",
      "nbconvert_exporter": "python",
      "pygments_lexer": "ipython3",
      "version": "3.10.12"
    }
  },
  "nbformat": 4,
  "nbformat_minor": 0
}
